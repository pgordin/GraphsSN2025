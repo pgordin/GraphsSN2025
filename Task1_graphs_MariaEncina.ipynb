{
  "cells": [
    {
      "cell_type": "code",
      "execution_count": null,
      "metadata": {
        "id": "H8oChAVszc_F"
      },
      "outputs": [],
      "source": [
        "def print_graph(graph):\n",
        "    \"\"\"\n",
        "    function reused from previous lab, it prints the graph\n",
        "    \"\"\"\n",
        "    for vertex in graph:\n",
        "        print(vertex, ':', end=' ')\n",
        "        for neighbour in graph[vertex]:\n",
        "            print(neighbour, end=' ')\n",
        "        print()"
      ]
    },
    {
      "cell_type": "code",
      "execution_count": null,
      "metadata": {
        "id": "9xdgyrDRx3cG"
      },
      "outputs": [],
      "source": [
        "import random\n",
        "\n",
        "def random_graph(n, p):\n",
        "    \"\"\"\n",
        "    generates a random graph in the form  G(n, p), n being the number of vertex and p the probability that an edge is created between them\n",
        "    \"\"\"\n",
        "    if not (0 <= p <= 1):\n",
        "        raise ValueError(\"p should be a value between 0 & 1\")\n",
        "\n",
        "    G = {i: set() for i in range(n)}\n",
        "    for i in range(n):\n",
        "        for j in range(i + 1, n):\n",
        "            if random.random() < p:\n",
        "                G[i].add(j)\n",
        "                G[j].add(i)\n",
        "    return G\n"
      ]
    },
    {
      "cell_type": "code",
      "execution_count": null,
      "metadata": {
        "id": "7Vi4X9vC0P-s"
      },
      "outputs": [],
      "source": [
        "def graph_to_matrix(graph):\n",
        "    \"\"\"\n",
        "    goes from\n",
        "      dict: {vertex: set(neighbour vertex it has an edge with)}\n",
        "\n",
        "    to\n",
        "      matrix (list[list[int]]): adyacencia matrix (0 o 1)\n",
        "      vertex (list): list of vertex (ordered)\n",
        "    \"\"\"\n",
        "    vertices = sorted(graph.keys())\n",
        "    n = len(vertices)\n",
        "    matrix = [[0]*n for _ in range(n)]\n",
        "\n",
        "    for i, v in enumerate(vertices):\n",
        "        for u in graph[v]:\n",
        "            j = vertices.index(u)\n",
        "            matrix[i][j] = 1  # the 1 means an edge exists\n",
        "    return matrix, vertices"
      ]
    },
    {
      "cell_type": "code",
      "execution_count": null,
      "metadata": {
        "id": "QpNtqz2n26sh"
      },
      "outputs": [],
      "source": [
        "def matrix_to_graph(vertices, matrix):\n",
        "    \"\"\"\n",
        "    goes from\n",
        "      matrix (list[list[int]]): adyacencia matrix (0 o 1)\n",
        "      vertex (list): list of vertex (ordered)\n",
        "\n",
        "    to\n",
        "      dict: {vertex: set(neighbour vertex it has an edge with)}\n",
        "    \"\"\"\n",
        "    n = len(vertices)\n",
        "    graph = {v: set() for v in vertices}\n",
        "\n",
        "    for i in range(n):\n",
        "        for j in range(n):\n",
        "            if matrix[i][j] == 1:\n",
        "                graph[vertices[i]].add(vertices[j])\n",
        "    return graph"
      ]
    },
    {
      "cell_type": "code",
      "execution_count": null,
      "metadata": {
        "id": "h-W7JJqe3xp_"
      },
      "outputs": [],
      "source": [
        "def cycle(n):\n",
        "    \"\"\"\n",
        "    generates a simple cycle with n vertex in the form dict: {vertex: set(neighbour vertex it has an edge with)}\n",
        "    \"\"\"\n",
        "    graph = {i: set() for i in range(n)}\n",
        "    for i in range(n):\n",
        "        graph[i].add((i+1) % n)  # after neighbour\n",
        "        graph[i].add((i-1) % n)  # before neighbour\n",
        "    return graph"
      ]
    },
    {
      "cell_type": "code",
      "execution_count": null,
      "metadata": {
        "colab": {
          "base_uri": "https://localhost:8080/"
        },
        "id": "ywiEfzRTzjUf",
        "outputId": "a7180c97-c793-4586-8011-2fff9fc3e15b"
      },
      "outputs": [
        {
          "name": "stdout",
          "output_type": "stream",
          "text": [
            "0 : 1 3 \n",
            "1 : 0 2 \n",
            "2 : 1 \n",
            "3 : 0 4 \n",
            "4 : 3 \n",
            "\n",
            "Vértices: [0, 1, 2, 3, 4]\n",
            "Matriz: [[0, 1, 0, 1, 0], [1, 0, 1, 0, 0], [0, 1, 0, 0, 0], [1, 0, 0, 0, 1], [0, 0, 0, 1, 0]]\n",
            "\n",
            "Grafo reconstruido desde matriz:\n",
            "0 : 1 3 \n",
            "1 : 0 2 \n",
            "2 : 1 \n",
            "3 : 0 4 \n",
            "4 : 3 \n",
            "\n",
            "Ciclo:\n",
            "0 : 1 4 \n",
            "1 : 0 2 \n",
            "2 : 1 3 \n",
            "3 : 2 4 \n",
            "4 : 0 3 \n"
          ]
        }
      ],
      "source": [
        "if __name__ == \"__main__\":\n",
        "    g = random_graph(5, 0.4)\n",
        "    print_graph(g)\n",
        "    M, V = graph_to_matrix(g)\n",
        "    print(\"\\nVertex:\", V)\n",
        "    print(\"Matrix:\", M)\n",
        "    g2 = matrix_to_graph(V, M)\n",
        "    print(\"\\nGraph\")\n",
        "    print_graph(g2)\n",
        "    g = cycle(5)\n",
        "    print(\"\\nCycle:\")\n",
        "    print_graph(g)"
      ]
    }
  ],
  "metadata": {
    "colab": {
      "provenance": []
    },
    "kernelspec": {
      "display_name": "Python 3",
      "name": "python3"
    },
    "language_info": {
      "name": "python"
    }
  },
  "nbformat": 4,
  "nbformat_minor": 0
}
