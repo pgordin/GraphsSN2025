{
 "cells": [
  {
   "cell_type": "markdown",
   "id": "c44ada8d",
   "metadata": {},
   "source": [
    "## **Lat task 1 (creating and modifying graphs)**\n",
    "#### Jakub Blaszczyk 250380"
   ]
  },
  {
   "cell_type": "markdown",
   "id": "9ea9a88b",
   "metadata": {},
   "source": [
    "#### Imports:"
   ]
  },
  {
   "cell_type": "code",
   "execution_count": 2,
   "id": "fe8de2f2",
   "metadata": {},
   "outputs": [],
   "source": [
    "from random import random, seed"
   ]
  },
  {
   "cell_type": "markdown",
   "id": "d2137c11",
   "metadata": {},
   "source": [
    "### 1. Write a function random_graph(n, p), which returns a random graph in G(n, p) model - n vertices, an existence of each edge is independent and holds with probability p."
   ]
  },
  {
   "cell_type": "code",
   "execution_count": 5,
   "id": "33a20045",
   "metadata": {},
   "outputs": [],
   "source": [
    "seed(2025) # for reproducibility\n",
    "\n",
    "def random_graph(n,p):\n",
    "    graph = {}\n",
    "    for i in range(1,n+1):\n",
    "        if i not in graph:\n",
    "            graph[i]=[]\n",
    "            for j in range(1,i):\n",
    "                if random()<p:\n",
    "                    graph[i].append(j)\n",
    "                    if j not in graph:\n",
    "                        graph[j]=[]\n",
    "                    graph[j].append(i)\n",
    "\n",
    "    return graph\n"
   ]
  },
  {
   "cell_type": "code",
   "execution_count": 6,
   "id": "de3844f3",
   "metadata": {},
   "outputs": [
    {
     "name": "stdout",
     "output_type": "stream",
     "text": [
      "{1: [4, 9, 10], 2: [4, 5, 9], 3: [6, 7, 9], 4: [1, 2, 5, 6, 7], 5: [2, 4, 6, 10], 6: [3, 4, 5], 7: [3, 4], 8: [], 9: [1, 2, 3], 10: [1, 5]}\n"
     ]
    }
   ],
   "source": [
    "#test\n",
    "n=10\n",
    "p=1/3\n",
    "G=random_graph(n,p)\n",
    "print(G)"
   ]
  },
  {
   "cell_type": "markdown",
   "id": "f7fb8bf1",
   "metadata": {},
   "source": [
    "### 2. Write a function graph_to_matrix(graph), which converts a graph given by neighbour list into matrix representation and returns a matrix and a sequence of vertices."
   ]
  },
  {
   "cell_type": "code",
   "execution_count": 7,
   "id": "7765030e",
   "metadata": {},
   "outputs": [],
   "source": [
    "def graph_to_matrix(graph):\n",
    "    vertices = sorted(graph.keys())\n",
    "    size = len(vertices)\n",
    "    matrix = []\n",
    "    for i in range(size):\n",
    "        row = []\n",
    "        for j in range(size):\n",
    "            if vertices[j] in graph[vertices[i]]:\n",
    "                row.append(1)\n",
    "            else:\n",
    "                row.append(0)\n",
    "        matrix.append(row)\n",
    "    return matrix\n",
    "    "
   ]
  },
  {
   "cell_type": "code",
   "execution_count": 8,
   "id": "be3ce3a6",
   "metadata": {},
   "outputs": [
    {
     "data": {
      "text/plain": [
       "[[0, 0, 0, 1, 0, 0, 0, 0, 1, 1],\n",
       " [0, 0, 0, 1, 1, 0, 0, 0, 1, 0],\n",
       " [0, 0, 0, 0, 0, 1, 1, 0, 1, 0],\n",
       " [1, 1, 0, 0, 1, 1, 1, 0, 0, 0],\n",
       " [0, 1, 0, 1, 0, 1, 0, 0, 0, 1],\n",
       " [0, 0, 1, 1, 1, 0, 0, 0, 0, 0],\n",
       " [0, 0, 1, 1, 0, 0, 0, 0, 0, 0],\n",
       " [0, 0, 0, 0, 0, 0, 0, 0, 0, 0],\n",
       " [1, 1, 1, 0, 0, 0, 0, 0, 0, 0],\n",
       " [1, 0, 0, 0, 1, 0, 0, 0, 0, 0]]"
      ]
     },
     "execution_count": 8,
     "metadata": {},
     "output_type": "execute_result"
    }
   ],
   "source": [
    "#test\n",
    "graph_to_matrix(G)"
   ]
  },
  {
   "cell_type": "markdown",
   "id": "1353be80",
   "metadata": {},
   "source": [
    "### 3. Write a function matrix_to_graph(vertices, matrix) which converts in the opposite direction — convertiing a matrix (and a sequence of vertex labels) into a form of neighbour list (python dictionary)."
   ]
  },
  {
   "cell_type": "code",
   "execution_count": 9,
   "id": "4b217f8e",
   "metadata": {},
   "outputs": [],
   "source": [
    "def matrix_to_graph(vertices, matrix):\n",
    "    graph = {}\n",
    "    size = len(vertices)\n",
    "    for i in range(size):\n",
    "        graph[vertices[i]] = []\n",
    "        for j in range(size):\n",
    "            if matrix[i][j] == 1:\n",
    "                graph[vertices[i]].append(vertices[j])\n",
    "    return graph"
   ]
  },
  {
   "cell_type": "code",
   "execution_count": 10,
   "id": "9753dbc9",
   "metadata": {},
   "outputs": [
    {
     "name": "stdout",
     "output_type": "stream",
     "text": [
      "{1: [4, 9, 10], 2: [4, 5, 9], 3: [6, 7, 9], 4: [1, 2, 5, 6, 7], 5: [2, 4, 6, 10], 6: [3, 4, 5], 7: [3, 4], 8: [], 9: [1, 2, 3], 10: [1, 5]}\n"
     ]
    }
   ],
   "source": [
    "#test\n",
    "verices = sorted(G.keys())\n",
    "matrix = graph_to_matrix(G)\n",
    "graph = matrix_to_graph(verices, matrix)\n",
    "print(graph)"
   ]
  },
  {
   "cell_type": "markdown",
   "id": "6b1adac3",
   "metadata": {},
   "source": [
    "### 4. Write a function cycle(n), which return a cycle on n vertices."
   ]
  },
  {
   "cell_type": "code",
   "execution_count": 11,
   "id": "8eb84c9c",
   "metadata": {},
   "outputs": [],
   "source": [
    "def cycle(n):\n",
    "    graph = {}\n",
    "    for i in range(1,n+1):\n",
    "        graph[i] = []\n",
    "        graph[i].append((i%n)+1)\n",
    "        graph[i].append((i-2)%n+1)\n",
    "    return graph"
   ]
  },
  {
   "cell_type": "code",
   "execution_count": 13,
   "id": "abc7a0b5",
   "metadata": {},
   "outputs": [
    {
     "data": {
      "text/plain": [
       "{1: [2, 10],\n",
       " 2: [3, 1],\n",
       " 3: [4, 2],\n",
       " 4: [5, 3],\n",
       " 5: [6, 4],\n",
       " 6: [7, 5],\n",
       " 7: [8, 6],\n",
       " 8: [9, 7],\n",
       " 9: [10, 8],\n",
       " 10: [1, 9]}"
      ]
     },
     "execution_count": 13,
     "metadata": {},
     "output_type": "execute_result"
    }
   ],
   "source": [
    "#test\n",
    "cycle(10)"
   ]
  }
 ],
 "metadata": {
  "kernelspec": {
   "display_name": "mda",
   "language": "python",
   "name": "python3"
  },
  "language_info": {
   "codemirror_mode": {
    "name": "ipython",
    "version": 3
   },
   "file_extension": ".py",
   "mimetype": "text/x-python",
   "name": "python",
   "nbconvert_exporter": "python",
   "pygments_lexer": "ipython3",
   "version": "3.10.16"
  }
 },
 "nbformat": 4,
 "nbformat_minor": 5
}
