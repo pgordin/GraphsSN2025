{
  "nbformat": 4,
  "nbformat_minor": 0,
  "metadata": {
    "colab": {
      "provenance": [],
      "authorship_tag": "ABX9TyNg4uWOcibp+wS0ebfISIzc",
      "include_colab_link": true
    },
    "kernelspec": {
      "name": "python3",
      "display_name": "Python 3"
    },
    "language_info": {
      "name": "python"
    }
  },
  "cells": [
    {
      "cell_type": "markdown",
      "metadata": {
        "id": "view-in-github",
        "colab_type": "text"
      },
      "source": [
        "<a href=\"https://colab.research.google.com/github/pgordin/GraphsSN2025/blob/main/Graphs3a.ipynb\" target=\"_parent\"><img src=\"https://colab.research.google.com/assets/colab-badge.svg\" alt=\"Open In Colab\"/></a>"
      ]
    },
    {
      "cell_type": "markdown",
      "source": [
        "# Graph functions"
      ],
      "metadata": {
        "id": "CouuJaUqGM4r"
      }
    },
    {
      "cell_type": "code",
      "execution_count": null,
      "metadata": {
        "id": "r-j0s1YC__d5"
      },
      "outputs": [],
      "source": [
        "def print_matrix(vertices, matrix):\n",
        "  # prints a graph given as a matrix, vector vertices describes names of vertices\n",
        "  n = len(matrix)   # it defines an order of a graph\n",
        "  # taka the proper names of vertices\n",
        "  if (vertices is not None) and (len(vertices) == n):\n",
        "    vv = vertices\n",
        "  else:\n",
        "    vv = range(1, n+1)\n",
        "  # printing\n",
        "  for i in range(n):\n",
        "    print(vv[i], \":\", end = ' ', sep=\"\")\n",
        "    for j in range(n):\n",
        "      if matrix[i][j] == 1:\n",
        "        print(vv[j], \"\", end = '')\n",
        "    print()\n"
      ]
    },
    {
      "cell_type": "code",
      "source": [
        "def print_graph(graph):\n",
        "  \"\"\"\n",
        "  prints a graph given as a dictionary\n",
        "  \"\"\"\n",
        "  for v in graph:\n",
        "    print(v, \":\", end=\" \", sep=\"\")\n",
        "    for u in graph[v]:\n",
        "      print(u, \"\", end=\"\")\n",
        "    print()"
      ],
      "metadata": {
        "id": "QVU2EkecLG-z"
      },
      "execution_count": null,
      "outputs": []
    },
    {
      "cell_type": "markdown",
      "source": [
        "# Making and modyfying graphs"
      ],
      "metadata": {
        "id": "1OWMWGe7MOLh"
      }
    },
    {
      "cell_type": "code",
      "source": [
        "def add_vertex(graph, vertex):\n",
        "  \"\"\"\n",
        "  adds a vertex to a graph\n",
        "  \"\"\"\n",
        "  if vertex not in graph:\n",
        "    graph[vertex] = []"
      ],
      "metadata": {
        "id": "-5on2mUvMR9G"
      },
      "execution_count": null,
      "outputs": []
    },
    {
      "cell_type": "code",
      "source": [
        "def add_arc(graph, arc):\n",
        "  \"\"\"\n",
        "  adds an arc to a graph\n",
        "  \"\"\"\n",
        "  u, v = arc\n",
        "  add_vertex(graph, u)\n",
        "  add_vertex(graph, v)\n",
        "  if v not in graph[u]:\n",
        "    graph[u].append(v)"
      ],
      "metadata": {
        "id": "I2Ds6WUJMkkg"
      },
      "execution_count": null,
      "outputs": []
    },
    {
      "cell_type": "code",
      "source": [
        "def add_edge(graph, edge):\n",
        "  \"\"\"\n",
        "  adds an edge to a graph (simple, undirected graph) (loops are not allowed)\n",
        "  \"\"\"\n",
        "  u, v = edge\n",
        "  add_vertex(graph, u)\n",
        "  add_vertex(graph, v)\n",
        "  if u == v:\n",
        "    raise ValueError(\"loops are not allowed\")\n",
        "  if v not in graph[u]:\n",
        "    graph[u].append(v)\n",
        "  if u not in graph[v]:\n",
        "    graph[v].append(u)"
      ],
      "metadata": {
        "id": "auA3GjaDMdLr"
      },
      "execution_count": null,
      "outputs": []
    },
    {
      "cell_type": "markdown",
      "source": [
        "# Use of code"
      ],
      "metadata": {
        "id": "5IEXuTdDLH4k"
      }
    },
    {
      "cell_type": "code",
      "source": [
        "matrix = [[0, 1, 0, 0, 1],\n",
        "          [1, 0, 1, 1, 0],\n",
        "          [0, 1, 0, 1, 0],\n",
        "          [0, 1, 1, 0, 1],\n",
        "          [1, 1, 1, 1, 0]]\n",
        "vertices = [\"a\", \"b\", \"c\", \"d\", \"e\"]\n",
        "print_matrix(vertices, matrix)\n",
        "print(\"-------------------------\")\n",
        "print(matrix)\n",
        "print(vertices)"
      ],
      "metadata": {
        "colab": {
          "base_uri": "https://localhost:8080/"
        },
        "id": "nnmXGcbYH97n",
        "outputId": "dcafd3d8-f56d-48bc-b3a0-dd64899d674c"
      },
      "execution_count": null,
      "outputs": [
        {
          "output_type": "stream",
          "name": "stdout",
          "text": [
            "a: b e \n",
            "b: a c d \n",
            "c: b d \n",
            "d: b c e \n",
            "e: a b c d \n",
            "-------------------------\n",
            "[[0, 1, 0, 0, 1], [1, 0, 1, 1, 0], [0, 1, 0, 1, 0], [0, 1, 1, 0, 1], [1, 1, 1, 1, 0]]\n",
            "['a', 'b', 'c', 'd', 'e']\n"
          ]
        }
      ]
    },
    {
      "cell_type": "code",
      "source": [
        "print_matrix(None, matrix)"
      ],
      "metadata": {
        "colab": {
          "base_uri": "https://localhost:8080/"
        },
        "id": "pncnYcpVINUK",
        "outputId": "845ed03e-d056-4070-a402-bf77b57d9336"
      },
      "execution_count": null,
      "outputs": [
        {
          "output_type": "stream",
          "name": "stdout",
          "text": [
            "1: 2 5 \n",
            "2: 1 3 4 \n",
            "3: 2 4 \n",
            "4: 2 3 5 \n",
            "5: 1 2 3 4 \n"
          ]
        }
      ]
    },
    {
      "cell_type": "code",
      "source": [
        "print_matrix([\"a\",\"b\"], matrix)"
      ],
      "metadata": {
        "colab": {
          "base_uri": "https://localhost:8080/"
        },
        "id": "WbK7brEFJX8G",
        "outputId": "e40524c1-0b7e-403f-ee05-f50ac4bf61af"
      },
      "execution_count": null,
      "outputs": [
        {
          "output_type": "stream",
          "name": "stdout",
          "text": [
            "1: 2 5 \n",
            "2: 1 3 4 \n",
            "3: 2 4 \n",
            "4: 2 3 5 \n",
            "5: 1 2 3 4 \n"
          ]
        }
      ]
    },
    {
      "cell_type": "code",
      "source": [
        "graph = {\n",
        "  \"a\": [\"b\", \"e\"],\n",
        "  \"b\": [\"a\", \"c\", \"d\"],\n",
        "  \"c\": [\"b\", \"d\"],\n",
        "  \"d\": [\"b\", \"c\", \"e\"],\n",
        "  \"e\": [\"a\", \"b\", \"c\", \"d\"]\n",
        "}"
      ],
      "metadata": {
        "id": "snwW9hLcKZjl"
      },
      "execution_count": null,
      "outputs": []
    },
    {
      "cell_type": "code",
      "source": [
        "print(graph)"
      ],
      "metadata": {
        "colab": {
          "base_uri": "https://localhost:8080/"
        },
        "id": "ctApefVkK-gm",
        "outputId": "74eb9d87-adb7-4609-f19f-0562395be371"
      },
      "execution_count": null,
      "outputs": [
        {
          "output_type": "stream",
          "name": "stdout",
          "text": [
            "{'a': ['b', 'e'], 'b': ['a', 'c', 'd'], 'c': ['b', 'd'], 'd': ['b', 'c', 'e'], 'e': ['a', 'b', 'c', 'd']}\n"
          ]
        }
      ]
    },
    {
      "cell_type": "code",
      "source": [
        "print_graph(graph)"
      ],
      "metadata": {
        "colab": {
          "base_uri": "https://localhost:8080/"
        },
        "id": "ENFF-UPgLkbJ",
        "outputId": "14b5f422-8abd-44f7-b111-fd3b2c95be9e"
      },
      "execution_count": null,
      "outputs": [
        {
          "output_type": "stream",
          "name": "stdout",
          "text": [
            "a: b e \n",
            "b: a c d \n",
            "c: b d \n",
            "d: b c e \n",
            "e: a b c d \n"
          ]
        }
      ]
    },
    {
      "cell_type": "code",
      "source": [
        "add_vertex(graph, \"f\")\n",
        "print_graph(graph)"
      ],
      "metadata": {
        "colab": {
          "base_uri": "https://localhost:8080/"
        },
        "id": "m0_rSyWdNeGy",
        "outputId": "5220b3d3-1390-44c4-ae35-ef21f18e2686"
      },
      "execution_count": null,
      "outputs": [
        {
          "output_type": "stream",
          "name": "stdout",
          "text": [
            "a: b e \n",
            "b: a c d \n",
            "c: b d \n",
            "d: b c e \n",
            "e: a b c d \n",
            "f: \n"
          ]
        }
      ]
    },
    {
      "cell_type": "code",
      "source": [
        "add_edge(graph, (\"a\", \"f\"))\n",
        "print_graph(graph)"
      ],
      "metadata": {
        "colab": {
          "base_uri": "https://localhost:8080/"
        },
        "id": "7UORpKgcNjR4",
        "outputId": "2bd63f25-da3a-4731-f580-e41a20e958cf"
      },
      "execution_count": null,
      "outputs": [
        {
          "output_type": "stream",
          "name": "stdout",
          "text": [
            "a: b e f \n",
            "b: a c d \n",
            "c: b d \n",
            "d: b c e \n",
            "e: a b c d \n",
            "f: a \n"
          ]
        }
      ]
    },
    {
      "cell_type": "code",
      "source": [
        "add_edge(graph, (\"f\", \"f\"))\n",
        "print_graph(graph)"
      ],
      "metadata": {
        "colab": {
          "base_uri": "https://localhost:8080/",
          "height": 280
        },
        "id": "Jb9wMy7oNrLW",
        "outputId": "ee0eb3dc-3f66-43bf-91b0-f9d8ae8a3f5f"
      },
      "execution_count": null,
      "outputs": [
        {
          "output_type": "error",
          "ename": "ValueError",
          "evalue": "loops are not allowed",
          "traceback": [
            "\u001b[0;31m---------------------------------------------------------------------------\u001b[0m",
            "\u001b[0;31mValueError\u001b[0m                                Traceback (most recent call last)",
            "\u001b[0;32m/tmp/ipython-input-2193285439.py\u001b[0m in \u001b[0;36m<cell line: 0>\u001b[0;34m()\u001b[0m\n\u001b[0;32m----> 1\u001b[0;31m \u001b[0madd_edge\u001b[0m\u001b[0;34m(\u001b[0m\u001b[0mgraph\u001b[0m\u001b[0;34m,\u001b[0m \u001b[0;34m(\u001b[0m\u001b[0;34m\"f\"\u001b[0m\u001b[0;34m,\u001b[0m \u001b[0;34m\"f\"\u001b[0m\u001b[0;34m)\u001b[0m\u001b[0;34m)\u001b[0m\u001b[0;34m\u001b[0m\u001b[0;34m\u001b[0m\u001b[0m\n\u001b[0m\u001b[1;32m      2\u001b[0m \u001b[0mprint_graph\u001b[0m\u001b[0;34m(\u001b[0m\u001b[0mgraph\u001b[0m\u001b[0;34m)\u001b[0m\u001b[0;34m\u001b[0m\u001b[0;34m\u001b[0m\u001b[0m\n",
            "\u001b[0;32m/tmp/ipython-input-3352036690.py\u001b[0m in \u001b[0;36madd_edge\u001b[0;34m(graph, edge)\u001b[0m\n\u001b[1;32m      7\u001b[0m   \u001b[0madd_vertex\u001b[0m\u001b[0;34m(\u001b[0m\u001b[0mgraph\u001b[0m\u001b[0;34m,\u001b[0m \u001b[0mv\u001b[0m\u001b[0;34m)\u001b[0m\u001b[0;34m\u001b[0m\u001b[0;34m\u001b[0m\u001b[0m\n\u001b[1;32m      8\u001b[0m   \u001b[0;32mif\u001b[0m \u001b[0mu\u001b[0m \u001b[0;34m==\u001b[0m \u001b[0mv\u001b[0m\u001b[0;34m:\u001b[0m\u001b[0;34m\u001b[0m\u001b[0;34m\u001b[0m\u001b[0m\n\u001b[0;32m----> 9\u001b[0;31m     \u001b[0;32mraise\u001b[0m \u001b[0mValueError\u001b[0m\u001b[0;34m(\u001b[0m\u001b[0;34m\"loops are not allowed\"\u001b[0m\u001b[0;34m)\u001b[0m\u001b[0;34m\u001b[0m\u001b[0;34m\u001b[0m\u001b[0m\n\u001b[0m\u001b[1;32m     10\u001b[0m   \u001b[0;32mif\u001b[0m \u001b[0mv\u001b[0m \u001b[0;32mnot\u001b[0m \u001b[0;32min\u001b[0m \u001b[0mgraph\u001b[0m\u001b[0;34m[\u001b[0m\u001b[0mu\u001b[0m\u001b[0;34m]\u001b[0m\u001b[0;34m:\u001b[0m\u001b[0;34m\u001b[0m\u001b[0;34m\u001b[0m\u001b[0m\n\u001b[1;32m     11\u001b[0m     \u001b[0mgraph\u001b[0m\u001b[0;34m[\u001b[0m\u001b[0mu\u001b[0m\u001b[0;34m]\u001b[0m\u001b[0;34m.\u001b[0m\u001b[0mappend\u001b[0m\u001b[0;34m(\u001b[0m\u001b[0mv\u001b[0m\u001b[0;34m)\u001b[0m\u001b[0;34m\u001b[0m\u001b[0;34m\u001b[0m\u001b[0m\n",
            "\u001b[0;31mValueError\u001b[0m: loops are not allowed"
          ]
        }
      ]
    },
    {
      "cell_type": "code",
      "source": [
        "add_arc(graph, (\"f\", \"f\"))\n",
        "print_graph(graph)"
      ],
      "metadata": {
        "colab": {
          "base_uri": "https://localhost:8080/"
        },
        "id": "71uP3gCPNwQE",
        "outputId": "1a47ca96-36c0-461e-e0ab-4209a42ff48c"
      },
      "execution_count": null,
      "outputs": [
        {
          "output_type": "stream",
          "name": "stdout",
          "text": [
            "a: b e f \n",
            "b: a c d \n",
            "c: b d \n",
            "d: b c e \n",
            "e: a b c d \n",
            "f: a f \n"
          ]
        }
      ]
    },
    {
      "cell_type": "markdown",
      "source": [
        "# Random graph generator $G(n, p)$ model"
      ],
      "metadata": {
        "id": "qWNkmyIVOAzn"
      }
    },
    {
      "cell_type": "code",
      "source": [
        "from random import random, seed\n",
        "# for repeatnes\n",
        "seed(2025)"
      ],
      "metadata": {
        "id": "kMfp0kFJOEqk"
      },
      "execution_count": null,
      "outputs": []
    },
    {
      "cell_type": "code",
      "source": [
        "# prepare graph G(10, 1/3)\n",
        "n = 10\n",
        "p = 1/3\n",
        "def GNP_graph(n, p):\n",
        "  \"\"\"\n",
        "  Creates random graph i G(n,p) model\n",
        "  \"\"\"\n",
        "  random_graph = {}\n",
        "  for i in range(1, n+1):\n",
        "    add_vertex(random_graph, i)\n",
        "    for j in range(1, i):\n",
        "      if random() < p:\n",
        "        add_edge(random_graph, (i, j))\n",
        "  return random_graph"
      ],
      "metadata": {
        "id": "0pyzB4lCOgYx"
      },
      "execution_count": null,
      "outputs": []
    },
    {
      "cell_type": "code",
      "source": [
        "print_graph(GNP_graph(10, 1/3))"
      ],
      "metadata": {
        "colab": {
          "base_uri": "https://localhost:8080/"
        },
        "id": "cvG7XMBjPDUs",
        "outputId": "f2300fe7-4f34-45ab-b8b7-c1c22ff07de4"
      },
      "execution_count": null,
      "outputs": [
        {
          "output_type": "stream",
          "name": "stdout",
          "text": [
            "1: 4 9 10 \n",
            "2: 4 5 9 \n",
            "3: 6 7 9 \n",
            "4: 1 2 5 6 7 \n",
            "5: 2 4 6 10 \n",
            "6: 3 4 5 \n",
            "7: 3 4 \n",
            "8: \n",
            "9: 1 2 3 \n",
            "10: 1 5 \n"
          ]
        }
      ]
    },
    {
      "cell_type": "markdown",
      "source": [
        "# Reading and writing graphs from/to a file"
      ],
      "metadata": {
        "id": "NVHHZDPkKc9r"
      }
    },
    {
      "cell_type": "code",
      "source": [
        "def graph_from_edges(filename, directed =0):\n",
        "  \"\"\"\n",
        "  Read the graph from a file, that each line contains ether the description of\n",
        "  an edge (two words) or the description of a vertex (one word).\n",
        "  The result is a graph (dictionary).\n",
        "  filename contains the whole path to the file\n",
        "  \"\"\"\n",
        "  graph = {}\n",
        "  file = open(filename, \"r\")    # open the file for reading\n",
        "  for line in file:\n",
        "    words = line.strip().split()  # spilt the line into words\n",
        "    if len(words)==1:             # one word - the vertex description\n",
        "      add_vertex(graph, words[0])\n",
        "    elif len(words) >= 2:          # two words - the edge description\n",
        "      if directed:\n",
        "        add_arc(graph, (words[0], words[1]))\n",
        "      else:\n",
        "        add_edge(graph, (words[0], words[1]))\n",
        "  file.close()\n",
        "  return graph\n"
      ],
      "metadata": {
        "id": "hu_GPQFvKiMx"
      },
      "execution_count": null,
      "outputs": []
    },
    {
      "cell_type": "code",
      "source": [
        "def graph_to_neighbourlist(graph, filename):\n",
        "  \"\"\"\n",
        "  Write a graph as a file in the neighbourlist format\n",
        "  \"\"\"\n",
        "  file = open(filename, \"w\")\n",
        "  for v in graph:\n",
        "    neigh_list = f\"{v}:\"\n",
        "    for u in graph[v]:\n",
        "      neigh_list += f\" {u}\"\n",
        "    neigh_list += \"\\n\"\n",
        "    file.write(neigh_list)\n",
        "  file.close"
      ],
      "metadata": {
        "id": "8Akd_9JTRB59"
      },
      "execution_count": null,
      "outputs": []
    },
    {
      "cell_type": "markdown",
      "source": [
        "Test it."
      ],
      "metadata": {
        "id": "Wk6nEZM1PVKV"
      }
    },
    {
      "cell_type": "code",
      "source": [
        "%%writefile edges.txt\n",
        "a b\n",
        "b c\n",
        "b d\n",
        "c e\n",
        "d e\n",
        "d f\n",
        "e f"
      ],
      "metadata": {
        "colab": {
          "base_uri": "https://localhost:8080/"
        },
        "id": "yU6thb_UPWgm",
        "outputId": "0f1195ff-acad-4ab6-c4f5-23272d99ce62"
      },
      "execution_count": null,
      "outputs": [
        {
          "output_type": "stream",
          "name": "stdout",
          "text": [
            "Overwriting edges.txt\n"
          ]
        }
      ]
    },
    {
      "cell_type": "code",
      "source": [
        "%cat edges.txt"
      ],
      "metadata": {
        "colab": {
          "base_uri": "https://localhost:8080/"
        },
        "id": "GEf3PvMmPz_i",
        "outputId": "4b42d6d3-9788-4414-e686-b2853e5d5f4a"
      },
      "execution_count": null,
      "outputs": [
        {
          "output_type": "stream",
          "name": "stdout",
          "text": [
            "a b\n",
            "b c\n",
            "b d\n",
            "c e\n",
            "d e\n",
            "d f\n",
            "e f\n"
          ]
        }
      ]
    },
    {
      "cell_type": "code",
      "source": [
        "graph = graph_from_edges(\"edges.txt\")\n",
        "print_graph(graph)"
      ],
      "metadata": {
        "colab": {
          "base_uri": "https://localhost:8080/"
        },
        "id": "1k5UJlYDP25I",
        "outputId": "74f1944d-0698-493f-c0de-190b8abb3073"
      },
      "execution_count": null,
      "outputs": [
        {
          "output_type": "stream",
          "name": "stdout",
          "text": [
            "a: b \n",
            "b: a c d \n",
            "c: b e \n",
            "d: b e f \n",
            "e: c d f \n",
            "f: d e \n"
          ]
        }
      ]
    },
    {
      "cell_type": "code",
      "source": [
        "digraph = graph_from_edges(\"edges.txt\", directed=1)\n",
        "print_graph(digraph)"
      ],
      "metadata": {
        "colab": {
          "base_uri": "https://localhost:8080/"
        },
        "id": "mWb17AN2QBVt",
        "outputId": "1aa4b2bd-c996-48d7-f209-7b318deedaa6"
      },
      "execution_count": null,
      "outputs": [
        {
          "output_type": "stream",
          "name": "stdout",
          "text": [
            "a: b \n",
            "b: c d \n",
            "c: e \n",
            "d: e f \n",
            "e: f \n",
            "f: \n"
          ]
        }
      ]
    },
    {
      "cell_type": "code",
      "source": [
        "graph_to_neighbourlist(graph, \"neighbourlist.txt\")\n",
        "%cat neighbourlist.txt\n",
        "#"
      ],
      "metadata": {
        "colab": {
          "base_uri": "https://localhost:8080/"
        },
        "id": "iruvTv0oRuyT",
        "outputId": "90b30de2-85b2-4630-a922-d9be78d1abc2"
      },
      "execution_count": null,
      "outputs": [
        {
          "output_type": "stream",
          "name": "stdout",
          "text": [
            "a: b\n",
            "b: a c d\n",
            "c: b e\n",
            "d: b e f\n",
            "e: c d f\n",
            "f: d e\n"
          ]
        }
      ]
    },
    {
      "cell_type": "code",
      "source": [
        "graph_to_neighbourlist(digraph, \"neighbourlist2.txt\")\n",
        "%cat neighbourlist2.txt"
      ],
      "metadata": {
        "colab": {
          "base_uri": "https://localhost:8080/"
        },
        "id": "mfJnca0TR69n",
        "outputId": "46fa63be-654e-45d4-9f56-8649774570d7"
      },
      "execution_count": null,
      "outputs": [
        {
          "output_type": "stream",
          "name": "stdout",
          "text": [
            "a: b\n",
            "b: c d\n",
            "c: e\n",
            "d: e f\n",
            "e: f\n",
            "f:\n"
          ]
        }
      ]
    },
    {
      "cell_type": "markdown",
      "source": [
        "# Prufer codes"
      ],
      "metadata": {
        "id": "p9avZNHWPszG"
      }
    },
    {
      "cell_type": "code",
      "source": [
        "from copy import deepcopy"
      ],
      "metadata": {
        "id": "69eGVIzBQXoF"
      },
      "execution_count": null,
      "outputs": []
    },
    {
      "cell_type": "code",
      "source": [
        "def Prufer(tree):\n",
        "  \"\"\"\n",
        "  Produces a Prufer code of a tree. The tree is represented as a dictionary.\n",
        "  It is neccessary to have a tree as an input.\n",
        "  \"\"\"\n",
        "  tr = deepcopy(tree)     # deepcopy to preserve the tree\n",
        "  code = \"\"\n",
        "  for i in range(len(tr) - 2):\n",
        "    for x in sorted(tr):\n",
        "      if len(tr[x]) == 1: # least leaf\n",
        "        break\n",
        "    v = tr[x][0]  # the only neighbour of the least leaf\n",
        "    code = code + f\"{v} \"\n",
        "    tr[v].remove(x) # remove the vertex x from the neighbour list of v\n",
        "    tr.pop(x)       # remove vertex x from the dictionary\n",
        "  return code.strip()"
      ],
      "metadata": {
        "id": "6xGVrHIIPus2"
      },
      "execution_count": null,
      "outputs": []
    },
    {
      "cell_type": "code",
      "source": [
        "def TreeFromPrufer(code):\n",
        "  \"\"\"\n",
        "  Creates a tree from a Prufer code.\n",
        "  \"\"\"\n",
        "  clist = [int(x) for x in code.split()]  # code as a list of numbers\n",
        "  n = len(clist) + 2\n",
        "  vert = [v for v in range(1, n+1)]\n",
        "  tree = {}\n",
        "  for v in vert:\n",
        "    add_vertex(tree, v)\n",
        "  for i in range(n-2):\n",
        "    for x in vert:\n",
        "      if x not in clist:  # x - the least leaf\n",
        "        break\n",
        "    v = clist.pop(0)  # removes the first element from the code /list - the neighbour of x\n",
        "    add_edge(tree, (x, v))\n",
        "    vert.remove(x)\n",
        "  add_edge(tree, (vert[0], vert[1]))\n",
        "  return tree\n"
      ],
      "metadata": {
        "id": "YMAoQu_CTxNr"
      },
      "execution_count": null,
      "outputs": []
    },
    {
      "cell_type": "code",
      "source": [
        "%%writefile tree1.txt\n",
        "1 3\n",
        "3 5\n",
        "5 2\n",
        "5 4\n",
        "5 6"
      ],
      "metadata": {
        "id": "GQ-nq2beR2R6",
        "outputId": "c69d0e6d-2470-457f-bd0f-ec7792b86af2",
        "colab": {
          "base_uri": "https://localhost:8080/"
        }
      },
      "execution_count": null,
      "outputs": [
        {
          "output_type": "stream",
          "name": "stdout",
          "text": [
            "Overwriting tree1.txt\n"
          ]
        }
      ]
    },
    {
      "cell_type": "code",
      "source": [
        "tree1 = graph_from_edges(\"tree1.txt\")\n",
        "print_graph(tree1)"
      ],
      "metadata": {
        "id": "LSayoRBXSElc",
        "outputId": "c0a88c82-1377-40eb-aea3-4db1e4b5d140",
        "colab": {
          "base_uri": "https://localhost:8080/"
        }
      },
      "execution_count": null,
      "outputs": [
        {
          "output_type": "stream",
          "name": "stdout",
          "text": [
            "1: 3 \n",
            "3: 1 5 \n",
            "5: 3 2 4 6 \n",
            "2: 5 \n",
            "4: 5 \n",
            "6: 5 \n"
          ]
        }
      ]
    },
    {
      "cell_type": "code",
      "source": [
        "print(Prufer(tree1))"
      ],
      "metadata": {
        "id": "RbpEVKWuSTXv",
        "outputId": "a490e90d-36f3-495b-dba2-b2f0f554a22f",
        "colab": {
          "base_uri": "https://localhost:8080/"
        }
      },
      "execution_count": null,
      "outputs": [
        {
          "output_type": "stream",
          "name": "stdout",
          "text": [
            "3 5 5 5\n"
          ]
        }
      ]
    },
    {
      "cell_type": "code",
      "source": [
        "print_graph(tree1)"
      ],
      "metadata": {
        "id": "KQ-FviwPSaIs",
        "outputId": "8cb58b7b-090c-4c1d-f2eb-2fca2cd47902",
        "colab": {
          "base_uri": "https://localhost:8080/"
        }
      },
      "execution_count": null,
      "outputs": [
        {
          "output_type": "stream",
          "name": "stdout",
          "text": [
            "1: 3 \n",
            "3: 1 5 \n",
            "5: 3 2 4 6 \n",
            "2: 5 \n",
            "4: 5 \n",
            "6: 5 \n"
          ]
        }
      ]
    },
    {
      "cell_type": "code",
      "source": [
        "print_graph(TreeFromPrufer(Prufer(tree1)))"
      ],
      "metadata": {
        "id": "h_krWq_3VPMX",
        "outputId": "ea48f9b2-563a-4194-efa1-3cc7ef1ad127",
        "colab": {
          "base_uri": "https://localhost:8080/"
        }
      },
      "execution_count": null,
      "outputs": [
        {
          "output_type": "stream",
          "name": "stdout",
          "text": [
            "1: 3 \n",
            "2: 5 \n",
            "3: 1 5 \n",
            "4: 5 \n",
            "5: 2 3 4 6 \n",
            "6: 5 \n"
          ]
        }
      ]
    },
    {
      "cell_type": "code",
      "source": [
        "print_graph(TreeFromPrufer(\"5 4 3 1\"))"
      ],
      "metadata": {
        "id": "ukfeMUznVeJp",
        "outputId": "2c96b144-a6a5-48fe-a792-63bad3e0a18e",
        "colab": {
          "base_uri": "https://localhost:8080/"
        }
      },
      "execution_count": null,
      "outputs": [
        {
          "output_type": "stream",
          "name": "stdout",
          "text": [
            "1: 3 6 \n",
            "2: 5 \n",
            "3: 4 1 \n",
            "4: 5 3 \n",
            "5: 2 4 \n",
            "6: 1 \n"
          ]
        }
      ]
    }
  ]
}