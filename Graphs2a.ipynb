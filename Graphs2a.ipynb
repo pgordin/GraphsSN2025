{
  "nbformat": 4,
  "nbformat_minor": 0,
  "metadata": {
    "colab": {
      "provenance": [],
      "authorship_tag": "ABX9TyNcaWN8vNIgGuMerNwGsSWz",
      "include_colab_link": true
    },
    "kernelspec": {
      "name": "python3",
      "display_name": "Python 3"
    },
    "language_info": {
      "name": "python"
    }
  },
  "cells": [
    {
      "cell_type": "markdown",
      "metadata": {
        "id": "view-in-github",
        "colab_type": "text"
      },
      "source": [
        "<a href=\"https://colab.research.google.com/github/pgordin/GraphsSN2025/blob/main/Graphs2a.ipynb\" target=\"_parent\"><img src=\"https://colab.research.google.com/assets/colab-badge.svg\" alt=\"Open In Colab\"/></a>"
      ]
    },
    {
      "cell_type": "markdown",
      "source": [
        "# Graph functions"
      ],
      "metadata": {
        "id": "CouuJaUqGM4r"
      }
    },
    {
      "cell_type": "code",
      "execution_count": 5,
      "metadata": {
        "id": "r-j0s1YC__d5"
      },
      "outputs": [],
      "source": [
        "def print_matrix(vertices, matrix):\n",
        "  # prints a graph given as a matrix, vector vertices describes names of vertices\n",
        "  n = len(matrix)   # it defines an order of a graph\n",
        "  # taka the proper names of vertices\n",
        "  if (vertices is not None) and (len(vertices) == n):\n",
        "    vv = vertices\n",
        "  else:\n",
        "    vv = range(1, n+1)\n",
        "  # printing\n",
        "  for i in range(n):\n",
        "    print(vv[i], \":\", end = ' ', sep=\"\")\n",
        "    for j in range(n):\n",
        "      if matrix[i][j] == 1:\n",
        "        print(vv[j], \"\", end = '')\n",
        "    print()\n"
      ]
    },
    {
      "cell_type": "code",
      "source": [
        "def print_graph(graph):\n",
        "  \"\"\"\n",
        "  prints a graph given as a dictionary\n",
        "  \"\"\"\n",
        "  for v in graph:\n",
        "    print(v, \":\", end=\" \", sep=\"\")\n",
        "    for u in graph[v]:\n",
        "      print(u, \"\", end=\"\")\n",
        "    print()"
      ],
      "metadata": {
        "id": "QVU2EkecLG-z"
      },
      "execution_count": 6,
      "outputs": []
    },
    {
      "cell_type": "markdown",
      "source": [
        "# Making and modyfying graphs"
      ],
      "metadata": {
        "id": "1OWMWGe7MOLh"
      }
    },
    {
      "cell_type": "code",
      "source": [
        "def add_vertex(graph, vertex):\n",
        "  \"\"\"\n",
        "  adds a vertex to a graph\n",
        "  \"\"\"\n",
        "  if vertex not in graph:\n",
        "    graph[vertex] = []"
      ],
      "metadata": {
        "id": "-5on2mUvMR9G"
      },
      "execution_count": 7,
      "outputs": []
    },
    {
      "cell_type": "code",
      "source": [
        "def add_arc(graph, arc):\n",
        "  \"\"\"\n",
        "  adds an arc to a graph\n",
        "  \"\"\"\n",
        "  u, v = arc\n",
        "  add_vertex(graph, u)\n",
        "  add_vertex(graph, v)\n",
        "  if v not in graph[u]:\n",
        "    graph[u].append(v)"
      ],
      "metadata": {
        "id": "I2Ds6WUJMkkg"
      },
      "execution_count": 8,
      "outputs": []
    },
    {
      "cell_type": "code",
      "source": [
        "def add_edge(graph, edge):\n",
        "  \"\"\"\n",
        "  adds an edge to a graph (simple, undirected graph) (loops are not allowed)\n",
        "  \"\"\"\n",
        "  u, v = edge\n",
        "  add_vertex(graph, u)\n",
        "  add_vertex(graph, v)\n",
        "  if u == v:\n",
        "    raise ValueError(\"loops are not allowed\")\n",
        "  if v not in graph[u]:\n",
        "    graph[u].append(v)\n",
        "  if u not in graph[v]:\n",
        "    graph[v].append(u)"
      ],
      "metadata": {
        "id": "auA3GjaDMdLr"
      },
      "execution_count": 9,
      "outputs": []
    },
    {
      "cell_type": "markdown",
      "source": [
        "# Use of code"
      ],
      "metadata": {
        "id": "5IEXuTdDLH4k"
      }
    },
    {
      "cell_type": "code",
      "source": [
        "matrix = [[0, 1, 0, 0, 1],\n",
        "          [1, 0, 1, 1, 0],\n",
        "          [0, 1, 0, 1, 0],\n",
        "          [0, 1, 1, 0, 1],\n",
        "          [1, 1, 1, 1, 0]]\n",
        "vertices = [\"a\", \"b\", \"c\", \"d\", \"e\"]\n",
        "print_matrix(vertices, matrix)\n",
        "print(\"-------------------------\")\n",
        "print(matrix)\n",
        "print(vertices)"
      ],
      "metadata": {
        "colab": {
          "base_uri": "https://localhost:8080/"
        },
        "id": "nnmXGcbYH97n",
        "outputId": "428c90e6-fbc5-4a75-bb90-ca4fbeb22896"
      },
      "execution_count": 10,
      "outputs": [
        {
          "output_type": "stream",
          "name": "stdout",
          "text": [
            "a: b e \n",
            "b: a c d \n",
            "c: b d \n",
            "d: b c e \n",
            "e: a b c d \n",
            "-------------------------\n",
            "[[0, 1, 0, 0, 1], [1, 0, 1, 1, 0], [0, 1, 0, 1, 0], [0, 1, 1, 0, 1], [1, 1, 1, 1, 0]]\n",
            "['a', 'b', 'c', 'd', 'e']\n"
          ]
        }
      ]
    },
    {
      "cell_type": "code",
      "source": [
        "print_matrix(None, matrix)"
      ],
      "metadata": {
        "colab": {
          "base_uri": "https://localhost:8080/"
        },
        "id": "pncnYcpVINUK",
        "outputId": "e7cfa07b-8a95-4cc1-cbb0-e359ea9bfc1e"
      },
      "execution_count": 11,
      "outputs": [
        {
          "output_type": "stream",
          "name": "stdout",
          "text": [
            "1: 2 5 \n",
            "2: 1 3 4 \n",
            "3: 2 4 \n",
            "4: 2 3 5 \n",
            "5: 1 2 3 4 \n"
          ]
        }
      ]
    },
    {
      "cell_type": "code",
      "source": [
        "print_matrix([\"a\",\"b\"], matrix)"
      ],
      "metadata": {
        "colab": {
          "base_uri": "https://localhost:8080/"
        },
        "id": "WbK7brEFJX8G",
        "outputId": "7d8ed104-0b53-45ba-c4b5-361f157c35d9"
      },
      "execution_count": 12,
      "outputs": [
        {
          "output_type": "stream",
          "name": "stdout",
          "text": [
            "1: 2 5 \n",
            "2: 1 3 4 \n",
            "3: 2 4 \n",
            "4: 2 3 5 \n",
            "5: 1 2 3 4 \n"
          ]
        }
      ]
    },
    {
      "cell_type": "code",
      "source": [
        "graph = {\n",
        "  \"a\": [\"b\", \"e\"],\n",
        "  \"b\": [\"a\", \"c\", \"d\"],\n",
        "  \"c\": [\"b\", \"d\"],\n",
        "  \"d\": [\"b\", \"c\", \"e\"],\n",
        "  \"e\": [\"a\", \"b\", \"c\", \"d\"]\n",
        "}"
      ],
      "metadata": {
        "id": "snwW9hLcKZjl"
      },
      "execution_count": 13,
      "outputs": []
    },
    {
      "cell_type": "code",
      "source": [
        "print(graph)"
      ],
      "metadata": {
        "colab": {
          "base_uri": "https://localhost:8080/"
        },
        "id": "ctApefVkK-gm",
        "outputId": "3b790cfb-a955-4646-e87c-e0d41d0d7c32"
      },
      "execution_count": 14,
      "outputs": [
        {
          "output_type": "stream",
          "name": "stdout",
          "text": [
            "{'a': ['b', 'e'], 'b': ['a', 'c', 'd'], 'c': ['b', 'd'], 'd': ['b', 'c', 'e'], 'e': ['a', 'b', 'c', 'd']}\n"
          ]
        }
      ]
    },
    {
      "cell_type": "code",
      "source": [
        "print_graph(graph)"
      ],
      "metadata": {
        "colab": {
          "base_uri": "https://localhost:8080/"
        },
        "id": "ENFF-UPgLkbJ",
        "outputId": "be16dee4-5a22-41ca-b37e-6ba6ad20dc9d"
      },
      "execution_count": 15,
      "outputs": [
        {
          "output_type": "stream",
          "name": "stdout",
          "text": [
            "a: b e \n",
            "b: a c d \n",
            "c: b d \n",
            "d: b c e \n",
            "e: a b c d \n"
          ]
        }
      ]
    },
    {
      "cell_type": "code",
      "source": [
        "add_vertex(graph, \"f\")\n",
        "print_graph(graph)"
      ],
      "metadata": {
        "colab": {
          "base_uri": "https://localhost:8080/"
        },
        "id": "m0_rSyWdNeGy",
        "outputId": "97f6c40d-083e-4b06-f062-3daa5c332d7d"
      },
      "execution_count": 16,
      "outputs": [
        {
          "output_type": "stream",
          "name": "stdout",
          "text": [
            "a: b e \n",
            "b: a c d \n",
            "c: b d \n",
            "d: b c e \n",
            "e: a b c d \n",
            "f: \n"
          ]
        }
      ]
    },
    {
      "cell_type": "code",
      "source": [
        "add_edge(graph, (\"a\", \"f\"))\n",
        "print_graph(graph)"
      ],
      "metadata": {
        "colab": {
          "base_uri": "https://localhost:8080/"
        },
        "id": "7UORpKgcNjR4",
        "outputId": "4800475f-4d26-408e-a56b-4cb23f47357f"
      },
      "execution_count": 17,
      "outputs": [
        {
          "output_type": "stream",
          "name": "stdout",
          "text": [
            "a: b e f \n",
            "b: a c d \n",
            "c: b d \n",
            "d: b c e \n",
            "e: a b c d \n",
            "f: a \n"
          ]
        }
      ]
    },
    {
      "cell_type": "code",
      "source": [
        "add_edge(graph, (\"f\", \"f\"))\n",
        "print_graph(graph)"
      ],
      "metadata": {
        "colab": {
          "base_uri": "https://localhost:8080/",
          "height": 285
        },
        "id": "Jb9wMy7oNrLW",
        "outputId": "d1b3568e-5380-4382-8fc1-1b8e21399511"
      },
      "execution_count": 18,
      "outputs": [
        {
          "output_type": "error",
          "ename": "ValueError",
          "evalue": "loops are not allowed",
          "traceback": [
            "\u001b[0;31m---------------------------------------------------------------------------\u001b[0m",
            "\u001b[0;31mValueError\u001b[0m                                Traceback (most recent call last)",
            "\u001b[0;32m/tmp/ipython-input-2193285439.py\u001b[0m in \u001b[0;36m<cell line: 0>\u001b[0;34m()\u001b[0m\n\u001b[0;32m----> 1\u001b[0;31m \u001b[0madd_edge\u001b[0m\u001b[0;34m(\u001b[0m\u001b[0mgraph\u001b[0m\u001b[0;34m,\u001b[0m \u001b[0;34m(\u001b[0m\u001b[0;34m\"f\"\u001b[0m\u001b[0;34m,\u001b[0m \u001b[0;34m\"f\"\u001b[0m\u001b[0;34m)\u001b[0m\u001b[0;34m)\u001b[0m\u001b[0;34m\u001b[0m\u001b[0;34m\u001b[0m\u001b[0m\n\u001b[0m\u001b[1;32m      2\u001b[0m \u001b[0mprint_graph\u001b[0m\u001b[0;34m(\u001b[0m\u001b[0mgraph\u001b[0m\u001b[0;34m)\u001b[0m\u001b[0;34m\u001b[0m\u001b[0;34m\u001b[0m\u001b[0m\n",
            "\u001b[0;32m/tmp/ipython-input-3352036690.py\u001b[0m in \u001b[0;36madd_edge\u001b[0;34m(graph, edge)\u001b[0m\n\u001b[1;32m      7\u001b[0m   \u001b[0madd_vertex\u001b[0m\u001b[0;34m(\u001b[0m\u001b[0mgraph\u001b[0m\u001b[0;34m,\u001b[0m \u001b[0mv\u001b[0m\u001b[0;34m)\u001b[0m\u001b[0;34m\u001b[0m\u001b[0;34m\u001b[0m\u001b[0m\n\u001b[1;32m      8\u001b[0m   \u001b[0;32mif\u001b[0m \u001b[0mu\u001b[0m \u001b[0;34m==\u001b[0m \u001b[0mv\u001b[0m\u001b[0;34m:\u001b[0m\u001b[0;34m\u001b[0m\u001b[0;34m\u001b[0m\u001b[0m\n\u001b[0;32m----> 9\u001b[0;31m     \u001b[0;32mraise\u001b[0m \u001b[0mValueError\u001b[0m\u001b[0;34m(\u001b[0m\u001b[0;34m\"loops are not allowed\"\u001b[0m\u001b[0;34m)\u001b[0m\u001b[0;34m\u001b[0m\u001b[0;34m\u001b[0m\u001b[0m\n\u001b[0m\u001b[1;32m     10\u001b[0m   \u001b[0;32mif\u001b[0m \u001b[0mv\u001b[0m \u001b[0;32mnot\u001b[0m \u001b[0;32min\u001b[0m \u001b[0mgraph\u001b[0m\u001b[0;34m[\u001b[0m\u001b[0mu\u001b[0m\u001b[0;34m]\u001b[0m\u001b[0;34m:\u001b[0m\u001b[0;34m\u001b[0m\u001b[0;34m\u001b[0m\u001b[0m\n\u001b[1;32m     11\u001b[0m     \u001b[0mgraph\u001b[0m\u001b[0;34m[\u001b[0m\u001b[0mu\u001b[0m\u001b[0;34m]\u001b[0m\u001b[0;34m.\u001b[0m\u001b[0mappend\u001b[0m\u001b[0;34m(\u001b[0m\u001b[0mv\u001b[0m\u001b[0;34m)\u001b[0m\u001b[0;34m\u001b[0m\u001b[0;34m\u001b[0m\u001b[0m\n",
            "\u001b[0;31mValueError\u001b[0m: loops are not allowed"
          ]
        }
      ]
    },
    {
      "cell_type": "code",
      "source": [
        "add_arc(graph, (\"f\", \"f\"))\n",
        "print_graph(graph)"
      ],
      "metadata": {
        "colab": {
          "base_uri": "https://localhost:8080/"
        },
        "id": "71uP3gCPNwQE",
        "outputId": "1b5dfac1-1a0c-4cbe-bdbe-ab0cfcfca5e3"
      },
      "execution_count": 19,
      "outputs": [
        {
          "output_type": "stream",
          "name": "stdout",
          "text": [
            "a: b e f \n",
            "b: a c d \n",
            "c: b d \n",
            "d: b c e \n",
            "e: a b c d \n",
            "f: a f \n"
          ]
        }
      ]
    },
    {
      "cell_type": "markdown",
      "source": [
        "# Random graph generator $G(n, p)$ model"
      ],
      "metadata": {
        "id": "qWNkmyIVOAzn"
      }
    },
    {
      "cell_type": "code",
      "source": [
        "from random import random, seed\n",
        "# for repeatnes\n",
        "seed(2025)"
      ],
      "metadata": {
        "id": "kMfp0kFJOEqk"
      },
      "execution_count": 20,
      "outputs": []
    },
    {
      "cell_type": "code",
      "source": [
        "# prepare graph G(10, 1/3)\n",
        "n = 10\n",
        "p = 1/3\n",
        "def GNP_graph(n, p):\n",
        "  \"\"\"\n",
        "  Creates random graph i G(n,p) model\n",
        "  \"\"\"\n",
        "  random_graph = {}\n",
        "  for i in range(1, n+1):\n",
        "    add_vertex(random_graph, i)\n",
        "    for j in range(1, i):\n",
        "      if random() < p:\n",
        "        add_edge(random_graph, (i, j))\n",
        "  return random_graph"
      ],
      "metadata": {
        "id": "0pyzB4lCOgYx"
      },
      "execution_count": 21,
      "outputs": []
    },
    {
      "cell_type": "code",
      "source": [
        "print_graph(GNP_graph(10, 1/3))"
      ],
      "metadata": {
        "colab": {
          "base_uri": "https://localhost:8080/"
        },
        "id": "cvG7XMBjPDUs",
        "outputId": "69c0f078-e902-41f6-f2c5-eddad0f0c81c"
      },
      "execution_count": 22,
      "outputs": [
        {
          "output_type": "stream",
          "name": "stdout",
          "text": [
            "1: 4 9 10 \n",
            "2: 4 5 9 \n",
            "3: 6 7 9 \n",
            "4: 1 2 5 6 7 \n",
            "5: 2 4 6 10 \n",
            "6: 3 4 5 \n",
            "7: 3 4 \n",
            "8: \n",
            "9: 1 2 3 \n",
            "10: 1 5 \n"
          ]
        }
      ]
    },
    {
      "cell_type": "markdown",
      "source": [
        "# Reading and writing graphs from/to a file"
      ],
      "metadata": {
        "id": "NVHHZDPkKc9r"
      }
    },
    {
      "cell_type": "code",
      "source": [
        "def graph_from_edges(filename, directed =0):\n",
        "  \"\"\"\n",
        "  Read the graph from a file, that each line contains ether the description of\n",
        "  an edge (two words) or the description of a vertex (one word).\n",
        "  The result is a graph (dictionary).\n",
        "  filename contains the whole path to the file\n",
        "  \"\"\"\n",
        "  graph = {}\n",
        "  file = open(filename, \"r\")    # open the file for reading\n",
        "  for line in file:\n",
        "    words = line.strip().split()  # spilt the line into words\n",
        "    if len(words)==1:             # one word - the vertex description\n",
        "      add_vertex(graph, words[0])\n",
        "    elif len(words) >= 2:          # two words - the edge description\n",
        "      if directed:\n",
        "        add_arc(graph, (words[0], words[1]))\n",
        "      else:\n",
        "        add_edge(graph, (words[0], words[1]))\n",
        "  file.close()\n",
        "  return graph\n",
        ""
      ],
      "metadata": {
        "id": "hu_GPQFvKiMx"
      },
      "execution_count": 24,
      "outputs": []
    },
    {
      "cell_type": "code",
      "source": [
        "def graph_to_neighbourlist(graph, filename):\n",
        "  \"\"\"\n",
        "  Write a graph as a file in the neighbourlist format\n",
        "  \"\"\"\n",
        "  file = open(filename, \"w\")\n",
        "  for v in graph:\n",
        "    neigh_list = f\"{v}:\"\n",
        "    for u in graph[v]:\n",
        "      neigh_list += f\" {u}\"\n",
        "    neigh_list += \"\\n\"\n",
        "    file.write(neigh_list)\n",
        "  file.close"
      ],
      "metadata": {
        "id": "8Akd_9JTRB59"
      },
      "execution_count": 33,
      "outputs": []
    },
    {
      "cell_type": "markdown",
      "source": [
        "Test it."
      ],
      "metadata": {
        "id": "Wk6nEZM1PVKV"
      }
    },
    {
      "cell_type": "code",
      "source": [
        "%%writefile edges.txt\n",
        "a b\n",
        "b c\n",
        "b d\n",
        "c e\n",
        "d e\n",
        "d f\n",
        "e f"
      ],
      "metadata": {
        "colab": {
          "base_uri": "https://localhost:8080/"
        },
        "id": "yU6thb_UPWgm",
        "outputId": "9213e4fd-06fd-4811-db05-69fb9f503e79"
      },
      "execution_count": 25,
      "outputs": [
        {
          "output_type": "stream",
          "name": "stdout",
          "text": [
            "Writing edges.txt\n"
          ]
        }
      ]
    },
    {
      "cell_type": "code",
      "source": [
        "%cat edges.txt"
      ],
      "metadata": {
        "colab": {
          "base_uri": "https://localhost:8080/"
        },
        "id": "GEf3PvMmPz_i",
        "outputId": "a7a15738-e0f4-4b14-f4f1-4a7235281a9c"
      },
      "execution_count": 26,
      "outputs": [
        {
          "output_type": "stream",
          "name": "stdout",
          "text": [
            "a b\n",
            "b c\n",
            "b d\n",
            "c e\n",
            "d e\n",
            "d f\n",
            "e f\n"
          ]
        }
      ]
    },
    {
      "cell_type": "code",
      "source": [
        "graph = graph_from_edges(\"edges.txt\")\n",
        "print_graph(graph)"
      ],
      "metadata": {
        "colab": {
          "base_uri": "https://localhost:8080/"
        },
        "id": "1k5UJlYDP25I",
        "outputId": "c597c628-0e26-4631-bb96-71dc9ddd1154"
      },
      "execution_count": 31,
      "outputs": [
        {
          "output_type": "stream",
          "name": "stdout",
          "text": [
            "a: b \n",
            "b: a c d \n",
            "c: b e \n",
            "d: b e f \n",
            "e: c d f \n",
            "f: d e g \n",
            "h: g \n",
            "g: h f \n"
          ]
        }
      ]
    },
    {
      "cell_type": "code",
      "source": [
        "digraph = graph_from_edges(\"edges.txt\", directed=1)\n",
        "print_graph(digraph)"
      ],
      "metadata": {
        "colab": {
          "base_uri": "https://localhost:8080/"
        },
        "id": "mWb17AN2QBVt",
        "outputId": "05c7c3bf-e38e-49bd-947c-73334af8133c"
      },
      "execution_count": 32,
      "outputs": [
        {
          "output_type": "stream",
          "name": "stdout",
          "text": [
            "a: b \n",
            "b: c d \n",
            "c: e \n",
            "d: e f \n",
            "e: f \n",
            "f: \n",
            "h: \n",
            "g: h f \n"
          ]
        }
      ]
    },
    {
      "cell_type": "code",
      "source": [
        "graph_to_neighbourlist(graph, \"neighbourlist.txt\")\n",
        "%cat neighbourlist.txt\n",
        "#"
      ],
      "metadata": {
        "colab": {
          "base_uri": "https://localhost:8080/"
        },
        "id": "iruvTv0oRuyT",
        "outputId": "0f3e62ef-2c97-4916-da54-38987025bad3"
      },
      "execution_count": 34,
      "outputs": [
        {
          "output_type": "stream",
          "name": "stdout",
          "text": [
            "a: b\n",
            "b: a c d\n",
            "c: b e\n",
            "d: b e f\n",
            "e: c d f\n",
            "f: d e g\n",
            "h: g\n",
            "g: h f\n"
          ]
        }
      ]
    },
    {
      "cell_type": "code",
      "source": [
        "graph_to_neighbourlist(digraph, \"neighbourlist2.txt\")\n",
        "%cat neighbourlist2.txt"
      ],
      "metadata": {
        "colab": {
          "base_uri": "https://localhost:8080/"
        },
        "id": "mfJnca0TR69n",
        "outputId": "259e37ab-c588-40b9-abae-e358992c475f"
      },
      "execution_count": 35,
      "outputs": [
        {
          "output_type": "stream",
          "name": "stdout",
          "text": [
            "a: b\n",
            "b: c d\n",
            "c: e\n",
            "d: e f\n",
            "e: f\n",
            "f:\n",
            "h:\n",
            "g: h f\n"
          ]
        }
      ]
    }
  ]
}