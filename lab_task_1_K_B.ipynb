{
  "cells": [
    {
      "cell_type": "markdown",
      "metadata": {
        "colab_type": "text",
        "id": "view-in-github"
      },
      "source": [
        "<a href=\"https://colab.research.google.com/github/pgordin/GraphsSN2025/blob/main/Graphs1a.ipynb\" target=\"_parent\"><img src=\"https://colab.research.google.com/assets/colab-badge.svg\" alt=\"Open In Colab\"/></a>"
      ]
    },
    {
      "cell_type": "markdown",
      "metadata": {
        "id": "CouuJaUqGM4r"
      },
      "source": [
        "# Graph functions"
      ]
    },
    {
      "cell_type": "code",
      "execution_count": 1,
      "metadata": {
        "id": "r-j0s1YC__d5"
      },
      "outputs": [],
      "source": [
        "def print_matrix(vertices, matrix):\n",
        "  # prints a graph given as a matrix, vector vertices describes names of vertices\n",
        "  n = len(matrix)   # it defines an order of a graph\n",
        "  # taka the proper names of vertices\n",
        "  if (vertices is not None) and (len(vertices) == n):\n",
        "    vv = vertices\n",
        "  else:\n",
        "    vv = range(1, n+1)\n",
        "  # printing\n",
        "  for i in range(n):\n",
        "    print(vv[i], \":\", end = ' ', sep=\"\")\n",
        "    for j in range(n):\n",
        "      if matrix[i][j] == 1:\n",
        "        print(vv[j], \"\", end = '')\n",
        "    print()\n"
      ]
    },
    {
      "cell_type": "code",
      "execution_count": 2,
      "metadata": {
        "id": "QVU2EkecLG-z"
      },
      "outputs": [],
      "source": [
        "def print_graph(graph):\n",
        "  \"\"\"\n",
        "  prints a graph given as a dictionary\n",
        "  \"\"\"\n",
        "  for v in graph:\n",
        "    print(v, \":\", end=\" \", sep=\"\")\n",
        "    for u in graph[v]:\n",
        "      print(u, \"\", end=\"\")\n",
        "    print()"
      ]
    },
    {
      "cell_type": "markdown",
      "metadata": {
        "id": "1OWMWGe7MOLh"
      },
      "source": [
        "# Making and modyfying graphs"
      ]
    },
    {
      "cell_type": "code",
      "execution_count": 3,
      "metadata": {
        "id": "-5on2mUvMR9G"
      },
      "outputs": [],
      "source": [
        "def add_vertex(graph, vertex):\n",
        "  \"\"\"\n",
        "  adds a vertex to a graph\n",
        "  \"\"\"\n",
        "  if vertex not in graph:\n",
        "    graph[vertex] = []"
      ]
    },
    {
      "cell_type": "code",
      "execution_count": 4,
      "metadata": {
        "id": "I2Ds6WUJMkkg"
      },
      "outputs": [],
      "source": [
        "def add_arc(graph, arc):\n",
        "  \"\"\"\n",
        "  adds an arc to a graph\n",
        "  \"\"\"\n",
        "  u, v = arc\n",
        "  add_vertex(graph, u)\n",
        "  add_vertex(graph, v)\n",
        "  if v not in graph[u]:\n",
        "    graph[u].append(v)"
      ]
    },
    {
      "cell_type": "code",
      "execution_count": 5,
      "metadata": {
        "id": "auA3GjaDMdLr"
      },
      "outputs": [],
      "source": [
        "def add_edge(graph, edge):\n",
        "  \"\"\"\n",
        "  adds an edge to a graph (simple, undirected graph) (loops are not allowed)\n",
        "  \"\"\"\n",
        "  u, v = edge\n",
        "  add_vertex(graph, u)\n",
        "  add_vertex(graph, v)\n",
        "  if u == v:\n",
        "    raise ValueError(\"loops are not allowed\")\n",
        "  if v not in graph[u]:\n",
        "    graph[u].append(v)\n",
        "  if u not in graph[v]:\n",
        "    graph[v].append(u)"
      ]
    },
    {
      "cell_type": "markdown",
      "metadata": {
        "id": "5IEXuTdDLH4k"
      },
      "source": [
        "# Use of code"
      ]
    },
    {
      "cell_type": "code",
      "execution_count": 6,
      "metadata": {
        "colab": {
          "base_uri": "https://localhost:8080/"
        },
        "id": "nnmXGcbYH97n",
        "outputId": "28bd3961-0d8c-4268-c3f9-446548c6fe9b"
      },
      "outputs": [
        {
          "name": "stdout",
          "output_type": "stream",
          "text": [
            "a: b e \n",
            "b: a c d \n",
            "c: b d \n",
            "d: b c e \n",
            "e: a b c d \n",
            "-------------------------\n",
            "[[0, 1, 0, 0, 1], [1, 0, 1, 1, 0], [0, 1, 0, 1, 0], [0, 1, 1, 0, 1], [1, 1, 1, 1, 0]]\n",
            "['a', 'b', 'c', 'd', 'e']\n"
          ]
        }
      ],
      "source": [
        "matrix = [[0, 1, 0, 0, 1],\n",
        "          [1, 0, 1, 1, 0],\n",
        "          [0, 1, 0, 1, 0],\n",
        "          [0, 1, 1, 0, 1],\n",
        "          [1, 1, 1, 1, 0]]\n",
        "vertices = [\"a\", \"b\", \"c\", \"d\", \"e\"]\n",
        "print_matrix(vertices, matrix)\n",
        "print(\"-------------------------\")\n",
        "print(matrix)\n",
        "print(vertices)"
      ]
    },
    {
      "cell_type": "code",
      "execution_count": 7,
      "metadata": {
        "colab": {
          "base_uri": "https://localhost:8080/"
        },
        "id": "pncnYcpVINUK",
        "outputId": "9b4d8948-3b2f-47e1-f81e-a03a5d12e100"
      },
      "outputs": [
        {
          "name": "stdout",
          "output_type": "stream",
          "text": [
            "1: 2 5 \n",
            "2: 1 3 4 \n",
            "3: 2 4 \n",
            "4: 2 3 5 \n",
            "5: 1 2 3 4 \n"
          ]
        }
      ],
      "source": [
        "print_matrix(None, matrix)"
      ]
    },
    {
      "cell_type": "code",
      "execution_count": 8,
      "metadata": {
        "colab": {
          "base_uri": "https://localhost:8080/"
        },
        "id": "WbK7brEFJX8G",
        "outputId": "1c0f285f-cb8f-4ace-c9dd-ae8f3af6c07b"
      },
      "outputs": [
        {
          "name": "stdout",
          "output_type": "stream",
          "text": [
            "1: 2 5 \n",
            "2: 1 3 4 \n",
            "3: 2 4 \n",
            "4: 2 3 5 \n",
            "5: 1 2 3 4 \n"
          ]
        }
      ],
      "source": [
        "print_matrix([\"a\",\"b\"], matrix)"
      ]
    },
    {
      "cell_type": "code",
      "execution_count": 9,
      "metadata": {
        "id": "snwW9hLcKZjl"
      },
      "outputs": [],
      "source": [
        "graph = {\n",
        "  \"a\": [\"b\", \"e\"],\n",
        "  \"b\": [\"a\", \"c\", \"d\"],\n",
        "  \"c\": [\"b\", \"d\"],\n",
        "  \"d\": [\"b\", \"c\", \"e\"],\n",
        "  \"e\": [\"a\", \"b\", \"c\", \"d\"]\n",
        "}"
      ]
    },
    {
      "cell_type": "code",
      "execution_count": 10,
      "metadata": {
        "colab": {
          "base_uri": "https://localhost:8080/"
        },
        "id": "ctApefVkK-gm",
        "outputId": "c6bea602-a70d-43d5-d447-82f0fe945778"
      },
      "outputs": [
        {
          "name": "stdout",
          "output_type": "stream",
          "text": [
            "{'a': ['b', 'e'], 'b': ['a', 'c', 'd'], 'c': ['b', 'd'], 'd': ['b', 'c', 'e'], 'e': ['a', 'b', 'c', 'd']}\n"
          ]
        }
      ],
      "source": [
        "print(graph)"
      ]
    },
    {
      "cell_type": "code",
      "execution_count": 11,
      "metadata": {
        "colab": {
          "base_uri": "https://localhost:8080/"
        },
        "id": "ENFF-UPgLkbJ",
        "outputId": "a5bd3239-fa19-4d67-d0f4-dcfe25b315cc"
      },
      "outputs": [
        {
          "name": "stdout",
          "output_type": "stream",
          "text": [
            "a: b e \n",
            "b: a c d \n",
            "c: b d \n",
            "d: b c e \n",
            "e: a b c d \n"
          ]
        }
      ],
      "source": [
        "print_graph(graph)"
      ]
    },
    {
      "cell_type": "code",
      "execution_count": 12,
      "metadata": {
        "colab": {
          "base_uri": "https://localhost:8080/"
        },
        "id": "m0_rSyWdNeGy",
        "outputId": "95d7abd8-394a-4abc-f0b4-1b3982af6d59"
      },
      "outputs": [
        {
          "name": "stdout",
          "output_type": "stream",
          "text": [
            "a: b e \n",
            "b: a c d \n",
            "c: b d \n",
            "d: b c e \n",
            "e: a b c d \n",
            "f: \n"
          ]
        }
      ],
      "source": [
        "add_vertex(graph, \"f\")\n",
        "print_graph(graph)"
      ]
    },
    {
      "cell_type": "code",
      "execution_count": 13,
      "metadata": {
        "colab": {
          "base_uri": "https://localhost:8080/"
        },
        "id": "7UORpKgcNjR4",
        "outputId": "83ce8c4a-edf2-4cc2-86fd-e883cc6455ce"
      },
      "outputs": [
        {
          "name": "stdout",
          "output_type": "stream",
          "text": [
            "a: b e f \n",
            "b: a c d \n",
            "c: b d \n",
            "d: b c e \n",
            "e: a b c d \n",
            "f: a \n"
          ]
        }
      ],
      "source": [
        "add_edge(graph, (\"a\", \"f\"))\n",
        "print_graph(graph)"
      ]
    },
    {
      "cell_type": "code",
      "execution_count": 14,
      "metadata": {
        "colab": {
          "base_uri": "https://localhost:8080/",
          "height": 280
        },
        "id": "Jb9wMy7oNrLW",
        "outputId": "8617a74a-ddc3-4fa6-f8b9-055d5d6a70fb"
      },
      "outputs": [
        {
          "ename": "ValueError",
          "evalue": "loops are not allowed",
          "output_type": "error",
          "traceback": [
            "\u001b[1;31m---------------------------------------------------------------------------\u001b[0m",
            "\u001b[1;31mValueError\u001b[0m                                Traceback (most recent call last)",
            "Cell \u001b[1;32mIn[14], line 1\u001b[0m\n\u001b[1;32m----> 1\u001b[0m \u001b[43madd_edge\u001b[49m\u001b[43m(\u001b[49m\u001b[43mgraph\u001b[49m\u001b[43m,\u001b[49m\u001b[43m \u001b[49m\u001b[43m(\u001b[49m\u001b[38;5;124;43m\"\u001b[39;49m\u001b[38;5;124;43mf\u001b[39;49m\u001b[38;5;124;43m\"\u001b[39;49m\u001b[43m,\u001b[49m\u001b[43m \u001b[49m\u001b[38;5;124;43m\"\u001b[39;49m\u001b[38;5;124;43mf\u001b[39;49m\u001b[38;5;124;43m\"\u001b[39;49m\u001b[43m)\u001b[49m\u001b[43m)\u001b[49m\n\u001b[0;32m      2\u001b[0m print_graph(graph)\n",
            "Cell \u001b[1;32mIn[5], line 9\u001b[0m, in \u001b[0;36madd_edge\u001b[1;34m(graph, edge)\u001b[0m\n\u001b[0;32m      7\u001b[0m add_vertex(graph, v)\n\u001b[0;32m      8\u001b[0m \u001b[38;5;28;01mif\u001b[39;00m u \u001b[38;5;241m==\u001b[39m v:\n\u001b[1;32m----> 9\u001b[0m   \u001b[38;5;28;01mraise\u001b[39;00m \u001b[38;5;167;01mValueError\u001b[39;00m(\u001b[38;5;124m\"\u001b[39m\u001b[38;5;124mloops are not allowed\u001b[39m\u001b[38;5;124m\"\u001b[39m)\n\u001b[0;32m     10\u001b[0m \u001b[38;5;28;01mif\u001b[39;00m v \u001b[38;5;129;01mnot\u001b[39;00m \u001b[38;5;129;01min\u001b[39;00m graph[u]:\n\u001b[0;32m     11\u001b[0m   graph[u]\u001b[38;5;241m.\u001b[39mappend(v)\n",
            "\u001b[1;31mValueError\u001b[0m: loops are not allowed"
          ]
        }
      ],
      "source": [
        "add_edge(graph, (\"f\", \"f\"))\n",
        "print_graph(graph)"
      ]
    },
    {
      "cell_type": "code",
      "execution_count": 16,
      "metadata": {
        "colab": {
          "base_uri": "https://localhost:8080/"
        },
        "id": "71uP3gCPNwQE",
        "outputId": "49f8d7d9-1b3d-4318-ecf3-b559a26622e0"
      },
      "outputs": [
        {
          "name": "stdout",
          "output_type": "stream",
          "text": [
            "a: b e f \n",
            "b: a c d \n",
            "c: b d \n",
            "d: b c e \n",
            "e: a b c d \n",
            "f: a f \n"
          ]
        }
      ],
      "source": [
        "add_arc(graph, (\"f\", \"f\"))\n",
        "print_graph(graph)"
      ]
    },
    {
      "cell_type": "markdown",
      "metadata": {
        "id": "qWNkmyIVOAzn"
      },
      "source": [
        "# Random graph generator $G(n, p)$ model"
      ]
    },
    {
      "cell_type": "code",
      "execution_count": 17,
      "metadata": {
        "id": "kMfp0kFJOEqk"
      },
      "outputs": [],
      "source": [
        "from random import random, seed\n",
        "# for repeatnes\n",
        "seed(2025)"
      ]
    },
    {
      "cell_type": "code",
      "execution_count": 18,
      "metadata": {
        "id": "0pyzB4lCOgYx"
      },
      "outputs": [],
      "source": [
        "# prepare graph G(10, 1/3)\n",
        "n = 10\n",
        "p = 1/3\n",
        "random_graph = {}\n",
        "for i in range(1, n+1):\n",
        "  add_vertex(random_graph, i)\n",
        "  for j in range(1, i):\n",
        "    if random() < p:\n",
        "      add_edge(random_graph, (i, j))"
      ]
    },
    {
      "cell_type": "code",
      "execution_count": 19,
      "metadata": {
        "colab": {
          "base_uri": "https://localhost:8080/"
        },
        "id": "cvG7XMBjPDUs",
        "outputId": "b4bd748f-c048-4643-e668-6ec7082ea3f8"
      },
      "outputs": [
        {
          "name": "stdout",
          "output_type": "stream",
          "text": [
            "1: 4 9 10 \n",
            "2: 4 5 9 \n",
            "3: 6 7 9 \n",
            "4: 1 2 5 6 7 \n",
            "5: 2 4 6 10 \n",
            "6: 3 4 5 \n",
            "7: 3 4 \n",
            "8: \n",
            "9: 1 2 3 \n",
            "10: 1 5 \n"
          ]
        }
      ],
      "source": [
        "print_graph(random_graph)"
      ]
    },
    {
      "cell_type": "markdown",
      "metadata": {},
      "source": [
        "## graph_to_matrix(graph)"
      ]
    },
    {
      "cell_type": "code",
      "execution_count": 22,
      "metadata": {},
      "outputs": [
        {
          "name": "stdout",
          "output_type": "stream",
          "text": [
            "[1, 2, 3, 4, 5, 6, 7, 8, 9, 10]\n",
            "[0, 0, 0, 1, 0, 0, 0, 0, 1, 1]\n",
            "[0, 0, 0, 1, 1, 0, 0, 0, 1, 0]\n",
            "[0, 0, 0, 0, 0, 1, 1, 0, 1, 0]\n",
            "[1, 1, 0, 0, 1, 1, 1, 0, 0, 0]\n",
            "[0, 1, 0, 1, 0, 1, 0, 0, 0, 1]\n",
            "[0, 0, 1, 1, 1, 0, 0, 0, 0, 0]\n",
            "[0, 0, 1, 1, 0, 0, 0, 0, 0, 0]\n",
            "[0, 0, 0, 0, 0, 0, 0, 0, 0, 0]\n",
            "[1, 1, 1, 0, 0, 0, 0, 0, 0, 0]\n",
            "[1, 0, 0, 0, 1, 0, 0, 0, 0, 0]\n"
          ]
        }
      ],
      "source": [
        "def graph_to_matrix(graph):\n",
        "    \"\"\"Converts an adjacency list to an adjacency matrix.\"\"\"\n",
        "    vertices = sorted(graph.keys())\n",
        "    n = len(vertices)\n",
        "    vertex_map = {vertex: i for i, vertex in enumerate(vertices)}\n",
        "    matrix = [[0] * n for _ in range(n)]\n",
        "    for vertex, neighbors in graph.items():\n",
        "        i = vertex_map[vertex]\n",
        "        for neighbor in neighbors:\n",
        "            j = vertex_map[neighbor]\n",
        "            matrix[i][j] = 1\n",
        "    return matrix, vertices\n",
        "\n",
        "adj_matrix, vertex_list = graph_to_matrix(random_graph)\n",
        "\n",
        "\n",
        "print(vertex_list)\n",
        "for row in adj_matrix:\n",
        "    print(row)"
      ]
    },
    {
      "cell_type": "markdown",
      "metadata": {},
      "source": [
        "## matrix_to_graph(vertices, matrix)"
      ]
    },
    {
      "cell_type": "code",
      "execution_count": 23,
      "metadata": {},
      "outputs": [
        {
          "name": "stdout",
          "output_type": "stream",
          "text": [
            "1: 4 9 10 \n",
            "4: 1 2 5 6 7 \n",
            "9: 1 2 3 \n",
            "10: 1 5 \n",
            "2: 4 5 9 \n",
            "5: 2 4 6 10 \n",
            "3: 6 7 9 \n",
            "6: 3 4 5 \n",
            "7: 3 4 \n",
            "8: \n"
          ]
        }
      ],
      "source": [
        "def matrix_to_graph(vertices, matrix):\n",
        "    \"\"\"Converts an adjacency matrix back to an adjacency list.\"\"\"\n",
        "    graph = {}\n",
        "    for i, vertex_u in enumerate(vertices):\n",
        "        add_vertex(graph, vertex_u)\n",
        "        for j, vertex_v in enumerate(vertices):\n",
        "            if matrix[i][j] == 1:\n",
        "                if vertex_u != vertex_v:\n",
        "                    add_edge(graph, (vertex_u, vertex_v))\n",
        "    return graph\n",
        "\n",
        "graph_from_matrix = matrix_to_graph(vertex_list, adj_matrix)\n",
        "\n",
        "print_graph(graph_from_matrix)\n"
      ]
    },
    {
      "cell_type": "markdown",
      "metadata": {},
      "source": [
        "## cycle(n)"
      ]
    },
    {
      "cell_type": "code",
      "execution_count": 24,
      "metadata": {},
      "outputs": [
        {
          "name": "stdout",
          "output_type": "stream",
          "text": [
            "0: 1 5 \n",
            "1: 0 2 \n",
            "2: 1 3 \n",
            "3: 2 4 \n",
            "4: 3 5 \n",
            "5: 4 0 \n"
          ]
        }
      ],
      "source": [
        "def cycle(n):\n",
        "    \"\"\"Creates a cycle graph on n vertices.\"\"\"\n",
        "    if n < 3:\n",
        "      raise ValueError(\"A simple cycle requires at least 3 vertices.\")\n",
        "    graph = {}\n",
        "    for i in range(n):\n",
        "        edge = (i, (i + 1) % n)\n",
        "        add_edge(graph, edge)\n",
        "    return graph\n",
        "\n",
        "n_cycle = 6\n",
        "cycle_graph = cycle(n_cycle)\n",
        "\n",
        "print_graph(cycle_graph)\n"
      ]
    },
    {
      "cell_type": "code",
      "execution_count": null,
      "metadata": {},
      "outputs": [],
      "source": []
    }
  ],
  "metadata": {
    "colab": {
      "authorship_tag": "ABX9TyNgBQL4Xc3SSN5NskWMyBzh",
      "include_colab_link": true,
      "provenance": []
    },
    "kernelspec": {
      "display_name": "mda",
      "language": "python",
      "name": "python3"
    },
    "language_info": {
      "codemirror_mode": {
        "name": "ipython",
        "version": 3
      },
      "file_extension": ".py",
      "mimetype": "text/x-python",
      "name": "python",
      "nbconvert_exporter": "python",
      "pygments_lexer": "ipython3",
      "version": "3.10.16"
    }
  },
  "nbformat": 4,
  "nbformat_minor": 0
}
