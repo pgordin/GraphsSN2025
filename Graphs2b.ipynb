{
  "nbformat": 4,
  "nbformat_minor": 0,
  "metadata": {
    "colab": {
      "provenance": [],
      "authorship_tag": "ABX9TyNxPnQuQGCNDC/ZHw14OGqb",
      "include_colab_link": true
    },
    "kernelspec": {
      "name": "python3",
      "display_name": "Python 3"
    },
    "language_info": {
      "name": "python"
    }
  },
  "cells": [
    {
      "cell_type": "markdown",
      "metadata": {
        "id": "view-in-github",
        "colab_type": "text"
      },
      "source": [
        "<a href=\"https://colab.research.google.com/github/pgordin/GraphsSN2025/blob/main/Graphs2b.ipynb\" target=\"_parent\"><img src=\"https://colab.research.google.com/assets/colab-badge.svg\" alt=\"Open In Colab\"/></a>"
      ]
    },
    {
      "cell_type": "markdown",
      "source": [
        "# Graph functions"
      ],
      "metadata": {
        "id": "CouuJaUqGM4r"
      }
    },
    {
      "cell_type": "code",
      "execution_count": 1,
      "metadata": {
        "id": "r-j0s1YC__d5"
      },
      "outputs": [],
      "source": [
        "def print_matrix(vertices, matrix):\n",
        "  # prints a graph given as a matrix, vector vertices describes names of vertices\n",
        "  n = len(matrix)   # it defines an order of a graph\n",
        "  # taka the proper names of vertices\n",
        "  if (vertices is not None) and (len(vertices) == n):\n",
        "    vv = vertices\n",
        "  else:\n",
        "    vv = range(1, n+1)\n",
        "  # printing\n",
        "  for i in range(n):\n",
        "    print(vv[i], \":\", end = ' ', sep=\"\")\n",
        "    for j in range(n):\n",
        "      if matrix[i][j] == 1:\n",
        "        print(vv[j], \"\", end = '')\n",
        "    print()\n"
      ]
    },
    {
      "cell_type": "code",
      "source": [
        "def print_graph(graph):\n",
        "  \"\"\"\n",
        "  prints a graph given as a dictionary\n",
        "  \"\"\"\n",
        "  for v in graph:\n",
        "    print(v, \":\", end=\" \", sep=\"\")\n",
        "    for u in graph[v]:\n",
        "      print(u, \"\", end=\"\")\n",
        "    print()"
      ],
      "metadata": {
        "id": "QVU2EkecLG-z"
      },
      "execution_count": 2,
      "outputs": []
    },
    {
      "cell_type": "markdown",
      "source": [
        "# Making and modyfying graphs"
      ],
      "metadata": {
        "id": "1OWMWGe7MOLh"
      }
    },
    {
      "cell_type": "code",
      "source": [
        "def add_vertex(graph, vertex):\n",
        "  \"\"\"\n",
        "  adds a vertex to a graph\n",
        "  \"\"\"\n",
        "  if vertex not in graph:\n",
        "    graph[vertex] = []"
      ],
      "metadata": {
        "id": "-5on2mUvMR9G"
      },
      "execution_count": 3,
      "outputs": []
    },
    {
      "cell_type": "code",
      "source": [
        "def add_arc(graph, arc):\n",
        "  \"\"\"\n",
        "  adds an arc to a graph\n",
        "  \"\"\"\n",
        "  u, v = arc\n",
        "  add_vertex(graph, u)\n",
        "  add_vertex(graph, v)\n",
        "  if v not in graph[u]:\n",
        "    graph[u].append(v)"
      ],
      "metadata": {
        "id": "I2Ds6WUJMkkg"
      },
      "execution_count": 4,
      "outputs": []
    },
    {
      "cell_type": "code",
      "source": [
        "def add_edge(graph, edge):\n",
        "  \"\"\"\n",
        "  adds an edge to a graph (simple, undirected graph) (loops are not allowed)\n",
        "  \"\"\"\n",
        "  u, v = edge\n",
        "  add_vertex(graph, u)\n",
        "  add_vertex(graph, v)\n",
        "  if u == v:\n",
        "    raise ValueError(\"loops are not allowed\")\n",
        "  if v not in graph[u]:\n",
        "    graph[u].append(v)\n",
        "  if u not in graph[v]:\n",
        "    graph[v].append(u)"
      ],
      "metadata": {
        "id": "auA3GjaDMdLr"
      },
      "execution_count": 5,
      "outputs": []
    },
    {
      "cell_type": "code",
      "source": [
        "def graph_from_edges(filename, directed = 0):\n",
        "  \"\"\"\n",
        "  reads a graph from a file, that each line contains either the description of\n",
        "  an edge (two words - a pair of vertices) or the description of a vertex (one word).\n",
        "  The result is a graph in a dictionary format.\n",
        "  filename contains the whole path to the file\n",
        "  \"\"\"\n",
        "  graph = {}\n",
        "  file = open(filename, \"r\")  # opens the file for reading\n",
        "  for line in file:\n",
        "    words = line.strip().split()  # splits the line into words\n",
        "    if len(words) == 1:\n",
        "      add_vertex(graph, words[0])\n",
        "    elif len(words) >= 2:\n",
        "      if directed == 0:\n",
        "        add_edge(graph, (words[0], words[1]))\n",
        "      else:\n",
        "        add_arc(graph, (words[0], words[1]))\n",
        "  file.close()\n",
        "  return graph"
      ],
      "metadata": {
        "id": "q4nfv9WQuI4d"
      },
      "execution_count": 19,
      "outputs": []
    },
    {
      "cell_type": "code",
      "source": [
        "def graph_to_neighbourlist(graph, filename):\n",
        "  \"\"\"\n",
        "  writes a graph in a neighbourlist format to a file\n",
        "  \"\"\"\n",
        "  file = open(filename, \"w\")\n",
        "  for v in graph:\n",
        "    neigh_list = f\"{v}:\"\n",
        "    for u in graph[v]:\n",
        "      neigh_list += f\" {u}\"\n",
        "    neigh_list += \"\\n\"\n",
        "    file.write(neigh_list)\n",
        "  file.close()"
      ],
      "metadata": {
        "id": "DQJnoFqdyfCR"
      },
      "execution_count": 24,
      "outputs": []
    },
    {
      "cell_type": "markdown",
      "source": [
        "# Use of code"
      ],
      "metadata": {
        "id": "5IEXuTdDLH4k"
      }
    },
    {
      "cell_type": "markdown",
      "source": [
        "## Second classes"
      ],
      "metadata": {
        "id": "6Ggy45QCuFfO"
      }
    },
    {
      "cell_type": "code",
      "source": [
        "%%writefile edges.txt\n",
        "a b\n",
        "b c\n",
        "a d\n",
        "c d\n",
        "a e\n",
        "d e\n",
        "f\n"
      ],
      "metadata": {
        "colab": {
          "base_uri": "https://localhost:8080/"
        },
        "id": "Zt3DL4afuHwl",
        "outputId": "c7faf4d6-fa37-48f1-a326-29774a7ccfc5"
      },
      "execution_count": 20,
      "outputs": [
        {
          "output_type": "stream",
          "name": "stdout",
          "text": [
            "Writing edges.txt\n"
          ]
        }
      ]
    },
    {
      "cell_type": "code",
      "source": [
        "%cat edges.txt"
      ],
      "metadata": {
        "colab": {
          "base_uri": "https://localhost:8080/"
        },
        "id": "KIIzJ-0tx-et",
        "outputId": "196de96c-d99e-418e-e278-08d97e4f3cd8"
      },
      "execution_count": 21,
      "outputs": [
        {
          "output_type": "stream",
          "name": "stdout",
          "text": [
            "a b\n",
            "b c\n",
            "a d\n",
            "c d\n",
            "a e\n",
            "d e\n",
            "f\n"
          ]
        }
      ]
    },
    {
      "cell_type": "code",
      "source": [
        "graph = graph_from_edges(\"edges.txt\")\n",
        "print_graph(graph)"
      ],
      "metadata": {
        "colab": {
          "base_uri": "https://localhost:8080/"
        },
        "id": "NA4c5oG2yKSZ",
        "outputId": "ff20a5ce-0462-4efc-c143-8b0f9b882e9b"
      },
      "execution_count": 22,
      "outputs": [
        {
          "output_type": "stream",
          "name": "stdout",
          "text": [
            "a: b d e \n",
            "b: a c \n",
            "c: b d \n",
            "d: a c e \n",
            "e: a d \n",
            "f: \n"
          ]
        }
      ]
    },
    {
      "cell_type": "code",
      "source": [
        "digraph = graph_from_edges(\"edges.txt\", 1)\n",
        "print_graph(digraph)"
      ],
      "metadata": {
        "colab": {
          "base_uri": "https://localhost:8080/"
        },
        "id": "a-wFo6HBzjXI",
        "outputId": "62245229-dc63-46d9-c42d-f633aa03cfdf"
      },
      "execution_count": 26,
      "outputs": [
        {
          "output_type": "stream",
          "name": "stdout",
          "text": [
            "a: b d e \n",
            "b: c \n",
            "c: d \n",
            "d: e \n",
            "e: \n",
            "f: \n"
          ]
        }
      ]
    },
    {
      "cell_type": "code",
      "source": [
        "graph_to_neighbourlist(graph, \"neighbourlist.txt\")"
      ],
      "metadata": {
        "id": "MWj0ZWXRzVC2"
      },
      "execution_count": 25,
      "outputs": []
    },
    {
      "cell_type": "markdown",
      "source": [
        "## First classes"
      ],
      "metadata": {
        "id": "JUOPjrwUuC5e"
      }
    },
    {
      "cell_type": "code",
      "source": [
        "matrix = [[0, 1, 0, 0, 1],\n",
        "          [1, 0, 1, 1, 0],\n",
        "          [0, 1, 0, 1, 0],\n",
        "          [0, 1, 1, 0, 1],\n",
        "          [1, 1, 1, 1, 0]]\n",
        "vertices = [\"a\", \"b\", \"c\", \"d\", \"e\"]\n",
        "print_matrix(vertices, matrix)\n",
        "print(\"-------------------------\")\n",
        "print(matrix)\n",
        "print(vertices)"
      ],
      "metadata": {
        "colab": {
          "base_uri": "https://localhost:8080/"
        },
        "id": "nnmXGcbYH97n",
        "outputId": "1c7e48fd-df37-4c1f-f8b5-70b9907719d4"
      },
      "execution_count": 6,
      "outputs": [
        {
          "output_type": "stream",
          "name": "stdout",
          "text": [
            "a: b e \n",
            "b: a c d \n",
            "c: b d \n",
            "d: b c e \n",
            "e: a b c d \n",
            "-------------------------\n",
            "[[0, 1, 0, 0, 1], [1, 0, 1, 1, 0], [0, 1, 0, 1, 0], [0, 1, 1, 0, 1], [1, 1, 1, 1, 0]]\n",
            "['a', 'b', 'c', 'd', 'e']\n"
          ]
        }
      ]
    },
    {
      "cell_type": "code",
      "source": [
        "print_matrix(None, matrix)"
      ],
      "metadata": {
        "colab": {
          "base_uri": "https://localhost:8080/"
        },
        "id": "pncnYcpVINUK",
        "outputId": "a30675ef-174e-46b5-a3fa-6ace9ee417bd"
      },
      "execution_count": 7,
      "outputs": [
        {
          "output_type": "stream",
          "name": "stdout",
          "text": [
            "1: 2 5 \n",
            "2: 1 3 4 \n",
            "3: 2 4 \n",
            "4: 2 3 5 \n",
            "5: 1 2 3 4 \n"
          ]
        }
      ]
    },
    {
      "cell_type": "code",
      "source": [
        "print_matrix([\"a\",\"b\"], matrix)"
      ],
      "metadata": {
        "colab": {
          "base_uri": "https://localhost:8080/"
        },
        "id": "WbK7brEFJX8G",
        "outputId": "e87174e5-1929-43ce-d686-00692e1c38fa"
      },
      "execution_count": 8,
      "outputs": [
        {
          "output_type": "stream",
          "name": "stdout",
          "text": [
            "1: 2 5 \n",
            "2: 1 3 4 \n",
            "3: 2 4 \n",
            "4: 2 3 5 \n",
            "5: 1 2 3 4 \n"
          ]
        }
      ]
    },
    {
      "cell_type": "code",
      "source": [
        "graph = {\n",
        "  \"a\": [\"b\", \"e\"],\n",
        "  \"b\": [\"a\", \"c\", \"d\"],\n",
        "  \"c\": [\"b\", \"d\"],\n",
        "  \"d\": [\"b\", \"c\", \"e\"],\n",
        "  \"e\": [\"a\", \"b\", \"c\", \"d\"]\n",
        "}"
      ],
      "metadata": {
        "id": "snwW9hLcKZjl"
      },
      "execution_count": 9,
      "outputs": []
    },
    {
      "cell_type": "code",
      "source": [
        "print(graph)"
      ],
      "metadata": {
        "colab": {
          "base_uri": "https://localhost:8080/"
        },
        "id": "ctApefVkK-gm",
        "outputId": "f68a2468-e5af-4bad-b8ae-da95fb045b33"
      },
      "execution_count": 10,
      "outputs": [
        {
          "output_type": "stream",
          "name": "stdout",
          "text": [
            "{'a': ['b', 'e'], 'b': ['a', 'c', 'd'], 'c': ['b', 'd'], 'd': ['b', 'c', 'e'], 'e': ['a', 'b', 'c', 'd']}\n"
          ]
        }
      ]
    },
    {
      "cell_type": "code",
      "source": [
        "print_graph(graph)"
      ],
      "metadata": {
        "colab": {
          "base_uri": "https://localhost:8080/"
        },
        "id": "ENFF-UPgLkbJ",
        "outputId": "bd27b065-457e-4dfb-9f83-e87a0968b94a"
      },
      "execution_count": 11,
      "outputs": [
        {
          "output_type": "stream",
          "name": "stdout",
          "text": [
            "a: b e \n",
            "b: a c d \n",
            "c: b d \n",
            "d: b c e \n",
            "e: a b c d \n"
          ]
        }
      ]
    },
    {
      "cell_type": "code",
      "source": [
        "add_vertex(graph, \"f\")\n",
        "print_graph(graph)"
      ],
      "metadata": {
        "colab": {
          "base_uri": "https://localhost:8080/"
        },
        "id": "m0_rSyWdNeGy",
        "outputId": "652416e6-3310-4139-d89e-040f8339e40b"
      },
      "execution_count": 12,
      "outputs": [
        {
          "output_type": "stream",
          "name": "stdout",
          "text": [
            "a: b e \n",
            "b: a c d \n",
            "c: b d \n",
            "d: b c e \n",
            "e: a b c d \n",
            "f: \n"
          ]
        }
      ]
    },
    {
      "cell_type": "code",
      "source": [
        "add_edge(graph, (\"a\", \"f\"))\n",
        "print_graph(graph)"
      ],
      "metadata": {
        "colab": {
          "base_uri": "https://localhost:8080/"
        },
        "id": "7UORpKgcNjR4",
        "outputId": "26013da2-f79d-4787-b3e7-466d42ca3dba"
      },
      "execution_count": 13,
      "outputs": [
        {
          "output_type": "stream",
          "name": "stdout",
          "text": [
            "a: b e f \n",
            "b: a c d \n",
            "c: b d \n",
            "d: b c e \n",
            "e: a b c d \n",
            "f: a \n"
          ]
        }
      ]
    },
    {
      "cell_type": "code",
      "source": [
        "add_edge(graph, (\"f\", \"f\"))\n",
        "print_graph(graph)"
      ],
      "metadata": {
        "colab": {
          "base_uri": "https://localhost:8080/",
          "height": 280
        },
        "id": "Jb9wMy7oNrLW",
        "outputId": "5ccbb0f1-5df0-46a3-ffb7-aaa34c94acc4"
      },
      "execution_count": 14,
      "outputs": [
        {
          "output_type": "error",
          "ename": "ValueError",
          "evalue": "loops are not allowed",
          "traceback": [
            "\u001b[0;31m---------------------------------------------------------------------------\u001b[0m",
            "\u001b[0;31mValueError\u001b[0m                                Traceback (most recent call last)",
            "\u001b[0;32m/tmp/ipython-input-2193285439.py\u001b[0m in \u001b[0;36m<cell line: 0>\u001b[0;34m()\u001b[0m\n\u001b[0;32m----> 1\u001b[0;31m \u001b[0madd_edge\u001b[0m\u001b[0;34m(\u001b[0m\u001b[0mgraph\u001b[0m\u001b[0;34m,\u001b[0m \u001b[0;34m(\u001b[0m\u001b[0;34m\"f\"\u001b[0m\u001b[0;34m,\u001b[0m \u001b[0;34m\"f\"\u001b[0m\u001b[0;34m)\u001b[0m\u001b[0;34m)\u001b[0m\u001b[0;34m\u001b[0m\u001b[0;34m\u001b[0m\u001b[0m\n\u001b[0m\u001b[1;32m      2\u001b[0m \u001b[0mprint_graph\u001b[0m\u001b[0;34m(\u001b[0m\u001b[0mgraph\u001b[0m\u001b[0;34m)\u001b[0m\u001b[0;34m\u001b[0m\u001b[0;34m\u001b[0m\u001b[0m\n",
            "\u001b[0;32m/tmp/ipython-input-3352036690.py\u001b[0m in \u001b[0;36madd_edge\u001b[0;34m(graph, edge)\u001b[0m\n\u001b[1;32m      7\u001b[0m   \u001b[0madd_vertex\u001b[0m\u001b[0;34m(\u001b[0m\u001b[0mgraph\u001b[0m\u001b[0;34m,\u001b[0m \u001b[0mv\u001b[0m\u001b[0;34m)\u001b[0m\u001b[0;34m\u001b[0m\u001b[0;34m\u001b[0m\u001b[0m\n\u001b[1;32m      8\u001b[0m   \u001b[0;32mif\u001b[0m \u001b[0mu\u001b[0m \u001b[0;34m==\u001b[0m \u001b[0mv\u001b[0m\u001b[0;34m:\u001b[0m\u001b[0;34m\u001b[0m\u001b[0;34m\u001b[0m\u001b[0m\n\u001b[0;32m----> 9\u001b[0;31m     \u001b[0;32mraise\u001b[0m \u001b[0mValueError\u001b[0m\u001b[0;34m(\u001b[0m\u001b[0;34m\"loops are not allowed\"\u001b[0m\u001b[0;34m)\u001b[0m\u001b[0;34m\u001b[0m\u001b[0;34m\u001b[0m\u001b[0m\n\u001b[0m\u001b[1;32m     10\u001b[0m   \u001b[0;32mif\u001b[0m \u001b[0mv\u001b[0m \u001b[0;32mnot\u001b[0m \u001b[0;32min\u001b[0m \u001b[0mgraph\u001b[0m\u001b[0;34m[\u001b[0m\u001b[0mu\u001b[0m\u001b[0;34m]\u001b[0m\u001b[0;34m:\u001b[0m\u001b[0;34m\u001b[0m\u001b[0;34m\u001b[0m\u001b[0m\n\u001b[1;32m     11\u001b[0m     \u001b[0mgraph\u001b[0m\u001b[0;34m[\u001b[0m\u001b[0mu\u001b[0m\u001b[0;34m]\u001b[0m\u001b[0;34m.\u001b[0m\u001b[0mappend\u001b[0m\u001b[0;34m(\u001b[0m\u001b[0mv\u001b[0m\u001b[0;34m)\u001b[0m\u001b[0;34m\u001b[0m\u001b[0;34m\u001b[0m\u001b[0m\n",
            "\u001b[0;31mValueError\u001b[0m: loops are not allowed"
          ]
        }
      ]
    },
    {
      "cell_type": "code",
      "source": [
        "add_arc(graph, (\"f\", \"f\"))\n",
        "print_graph(graph)"
      ],
      "metadata": {
        "colab": {
          "base_uri": "https://localhost:8080/"
        },
        "id": "71uP3gCPNwQE",
        "outputId": "18343fec-a898-44fb-b7fc-e7a038c2efc7"
      },
      "execution_count": 15,
      "outputs": [
        {
          "output_type": "stream",
          "name": "stdout",
          "text": [
            "a: b e f \n",
            "b: a c d \n",
            "c: b d \n",
            "d: b c e \n",
            "e: a b c d \n",
            "f: a f \n"
          ]
        }
      ]
    },
    {
      "cell_type": "markdown",
      "source": [
        "# Random graph generator $G(n, p)$ model"
      ],
      "metadata": {
        "id": "qWNkmyIVOAzn"
      }
    },
    {
      "cell_type": "code",
      "source": [
        "from random import random, seed\n",
        "# for repeatnes\n",
        "seed(2025)"
      ],
      "metadata": {
        "id": "kMfp0kFJOEqk"
      },
      "execution_count": 16,
      "outputs": []
    },
    {
      "cell_type": "code",
      "source": [
        "# prepare graph G(10, 1/3)\n",
        "n = 10\n",
        "p = 1/3\n",
        "random_graph = {}\n",
        "for i in range(1, n+1):\n",
        "  add_vertex(random_graph, i)\n",
        "  for j in range(1, i):\n",
        "    if random() < p:\n",
        "      add_edge(random_graph, (i, j))"
      ],
      "metadata": {
        "id": "0pyzB4lCOgYx"
      },
      "execution_count": 17,
      "outputs": []
    },
    {
      "cell_type": "code",
      "source": [
        "print_graph(random_graph)"
      ],
      "metadata": {
        "colab": {
          "base_uri": "https://localhost:8080/"
        },
        "id": "cvG7XMBjPDUs",
        "outputId": "8a4e9b9d-a953-4f7e-b294-b556877ad11f"
      },
      "execution_count": 18,
      "outputs": [
        {
          "output_type": "stream",
          "name": "stdout",
          "text": [
            "1: 4 9 10 \n",
            "2: 4 5 9 \n",
            "3: 6 7 9 \n",
            "4: 1 2 5 6 7 \n",
            "5: 2 4 6 10 \n",
            "6: 3 4 5 \n",
            "7: 3 4 \n",
            "8: \n",
            "9: 1 2 3 \n",
            "10: 1 5 \n"
          ]
        }
      ]
    }
  ]
}